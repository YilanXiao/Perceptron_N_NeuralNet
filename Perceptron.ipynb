{
  "nbformat": 4,
  "nbformat_minor": 0,
  "metadata": {
    "colab": {
      "name": "Perceptron_Final.ipynb",
      "provenance": [],
      "collapsed_sections": [
        "dTRBJ3Mq-FVE",
        "aXbP_liMCgDp",
        "BHM3ztakCpk5",
        "EqmjZSjICXG6",
        "IKjoaLT0DIxW",
        "NavhS43CH0kc",
        "dEneUPXL98w1",
        "_EvWd91THMfu",
        "J9d8I993HZyV",
        "NTEIhr_AIPFT",
        "bWwcWLZ4IfGe",
        "Bt0h6_1tIv7Z"
      ]
    },
    "kernelspec": {
      "name": "python3",
      "display_name": "Python 3"
    },
    "language_info": {
      "name": "python"
    }
  },
  "cells": [
    {
      "cell_type": "markdown",
      "metadata": {
        "id": "MQIHTQ6NHlC3"
      },
      "source": [
        "Implemented in Google Colab\n",
        "\n",
        "@Yilan Xiao"
      ]
    },
    {
      "cell_type": "markdown",
      "metadata": {
        "id": "dTRBJ3Mq-FVE"
      },
      "source": [
        "#Implementation"
      ]
    },
    {
      "cell_type": "markdown",
      "metadata": {
        "id": "aXbP_liMCgDp"
      },
      "source": [
        "##Loading Libraries"
      ]
    },
    {
      "cell_type": "code",
      "metadata": {
        "id": "v6knPv6lBuh2"
      },
      "source": [
        "import numpy as np\n",
        "import matplotlib.pyplot as plt\n",
        "import sys\n",
        "from os import system, name\n",
        "from time import sleep\n",
        "from numpy import *"
      ],
      "execution_count": null,
      "outputs": []
    },
    {
      "cell_type": "markdown",
      "metadata": {
        "id": "BHM3ztakCpk5"
      },
      "source": [
        "##Perceptron Class"
      ]
    },
    {
      "cell_type": "code",
      "metadata": {
        "id": "s4P_v_2TCGFA"
      },
      "source": [
        "class Perceptron(object):\n",
        "\n",
        "    #==========================================#\n",
        "    # The init method is called when an object #\n",
        "    # is created. It can be used to initialize #\n",
        "    # the attributes of the class.             #\n",
        "    #==========================================#\n",
        "    def __init__(self, no_inputs, no_of_different_labels=10,max_iterations=20, learning_rate=0.1, bias=0, train_size=60000, test_size = 10000):\n",
        "        self.no_inputs = no_inputs #28by28 -> 784*1\n",
        "        self.weights = np.ones(no_inputs) / no_inputs #784*1\n",
        "        self.no_of_different_labels = no_of_different_labels\n",
        "        self.multi_weights = np.ones((no_of_different_labels,no_inputs))/no_inputs #10*784\n",
        "        self.bias = bias\n",
        "        self.multi_bias = np.zeros((no_of_different_labels,1)) #10*1\n",
        "        self.weight_update = np.zeros(no_inputs) / no_inputs\n",
        "        self.bias_update = 0\n",
        "        self.max_iterations = max_iterations\n",
        "        self.learning_rate = learning_rate\n",
        "        self.train_size = train_size\n",
        "        self.test_size = test_size\n",
        "\n",
        "    #=======================================#\n",
        "    # Prints the details of the perceptron. #\n",
        "    #=======================================#\n",
        "    def print_details(self):\n",
        "        print(\"No. inputs:\\t\" + str(self.no_inputs))\n",
        "        print(\"Train size:\\t\" + str(self.train_size))\n",
        "        print(\"Test size:\\t\" + str(self.test_size))\n",
        "        print(\"Max iterations:\\t\" + str(self.max_iterations))\n",
        "        print(\"Learning rate:\\t\" + str(self.learning_rate))\n",
        "        print(\"Weights:\\t\" + str(self.weights))\n",
        "        print(\"Bias:\\t\" + str(self.bias))       \n",
        "\n",
        "    #=======================================#\n",
        "    # Prints the details of the perceptron. #\n",
        "    #=======================================#\n",
        "    def print_details_multiclass(self):\n",
        "        print(\"No. inputs:\\t\" + str(self.no_inputs))\n",
        "        print(\"Train size:\\t\" + str(self.train_size))\n",
        "        print(\"Test size:\\t\" + str(self.test_size))\n",
        "        print(\"Max iterations:\\t\" + str(self.max_iterations))\n",
        "        print(\"Learning rate:\\t\" + str(self.learning_rate))\n",
        "        print(\"Multi_Weights:\\t\" + str(self.multi_weights))\n",
        "        print(\"Multi_Bias:\\t\" + str(self.multi_bias))   \n",
        "\n",
        "    #=========================================#\n",
        "    # Performs feed-forward binary prediction #\n",
        "    # on one set of inputs.                   #\n",
        "    #=========================================#\n",
        "    def predict(self, inputs):   \n",
        "    #weighted sum of inputs\n",
        "    #add bias to weighted sum of inputs\n",
        "    #->activation of the node         \n",
        "        activation = np.dot(inputs,self.weights) + self.bias#add bias ->bias*c if need to change the constant       \n",
        "    #apply activation function to the activation of the node    \n",
        "    #Step function as activation function\n",
        "        if activation > 0:\n",
        "            output = 1\n",
        "        else:\n",
        "            output = 0      \n",
        "        return output\n",
        "\n",
        "    #==============================================#\n",
        "    # Performs feed-forward multi-class prediction #\n",
        "    # on one set of inputs.                        #\n",
        "    #==============================================#\n",
        "    def predict_multiclass(self, inputs):#def predict\n",
        "    # for every node position\n",
        "    # calculate the weighted sum of the position dops(nput,weight)+bias\n",
        "    # activation functions activation = weighted_sum\n",
        "        a = np.zeros(no_of_different_labels)#10*1\n",
        "        for i in range(self.no_of_different_labels):#each node\n",
        "          a[i] = np.dot(inputs, self.multi_weights[i]) + self.multi_bias[i]\n",
        "    #find the maximum in number node in predicted nodes activations\n",
        "        a = np.asarray(a)\n",
        "        max = np.amax(a)\n",
        "    #finalise the node as the output\n",
        "        node = np.asarray([int (x==max) for x in a])\n",
        "        return node\n",
        "\n",
        "    #=============================================#\n",
        "    # Performs feed-forward multi-class           #\n",
        "    # prediction with sigmoid activation function #\n",
        "    # on one set of inputs.                       #\n",
        "    #=============================================#\n",
        "    def predict_multiclass_sigmoid(self, inputs):\n",
        "        a = np.zeros(no_of_different_labels)#10*1\n",
        "        for i in range(self.no_of_different_labels):#each node\n",
        "          a[i] = np.dot(inputs, self.multi_weights[i]) + self.multi_bias[i]\n",
        "        a = np.asarray(a)  \n",
        "    #sigmoid activation function: sigmoid(a) = 1/(1+exp(-a))\n",
        "        a = 1/(1+np.exp(-a))\n",
        "    #find the maximum in number node in predicted nodes activations\n",
        "        max = np.amax(a)\n",
        "    #finalise the node as the output\n",
        "        node = np.asarray([int (x==max) for x in a])\n",
        "        return node\n",
        "\n",
        "    #======================================#\n",
        "    # Trains the binary perceptron using   # \n",
        "    # labelled training data.              #\n",
        "    #======================================#\n",
        "    def train(self, training_data, labels):\n",
        "        assert len(training_data) == len(labels)\n",
        "    #read in from file\n",
        "    #->input imsize*imsize/28*28\n",
        "        for i in range(self.train_size):\n",
        "            data = training_data[i] #784*1\n",
        "            #print(data.shape)\n",
        "            label = labels[i] #1\n",
        "            prediction = self.predict(data)#1\n",
        "            self.weights = self.weights + self.learning_rate * (label - prediction) * data #784*1     \n",
        "            self.bias = self.bias + self.learning_rate * (label - prediction) #784*1 #bias*c\n",
        "        return\n",
        "\n",
        "    #==================================================#\n",
        "    # Trains the binary perceptron with batch learning #\n",
        "    # using labelled training data.                    #\n",
        "    #==================================================#\n",
        "    def train_batch(self, training_data, labels):\n",
        "        assert len(training_data) == len(labels)\n",
        "\n",
        "        for i in range(self.max_iterations):\n",
        "          weight_update = self.weight_update\n",
        "          bias_update = self.bias_update         \n",
        "          for d in range(self.train_size):  \n",
        "            data = training_data[d] #784*1\n",
        "            label = labels[i] #1\n",
        "            prediction = self.predict(data)#1\n",
        "            weight_update = weight_update + self.learning_rate * (label - prediction) * data #784*1\n",
        "            bias_update = bias_update + self.learning_rate * (label - prediction)     \n",
        "            #self.bias = self.bias + self.learning_rate * (label - prediction) #784*1 #bias*c          \n",
        "          self.weights += weight_update/self.train_size\n",
        "          self.bias += bias_update/self.train_size\n",
        "\n",
        "    #======================================#\n",
        "    # Trains the multi-class perceptron    #\n",
        "    # using labelled training data.        #\n",
        "    #======================================#\n",
        "    def train_multi_class(self, training_data, labels):\n",
        "        assert len(training_data) == len(labels)\n",
        "        for i in range(self.train_size):\n",
        "            data = training_data[i] #784*1 #print(data.shape)  \n",
        "            data = reshape(data,(1,784))         \n",
        "            label = labels[i] #one hot encoded label\n",
        "            label = reshape(label,(10,1))\n",
        "            prediction = self.predict_multiclass(data)#1\n",
        "            prediction = reshape(prediction,(10,1))\n",
        "\n",
        "            #j = np.argmax(label) #getting the digit where it should be 1 #digit = np.where(r==1)\n",
        "            #k = np.argmax(prediction)\n",
        "            error = label - prediction \n",
        "            #print(data.shape)\n",
        "            #print(error.shape)\n",
        "            self.multi_weights = self.multi_weights +  self.learning_rate * np.dot((label - prediction),data)\n",
        "            #                       10 * 784                                 10 * 1                   1 * 784\n",
        "            #if result too bad, try taking out the k lines\n",
        "            #self.multi_weights[k] = self.multi_weights[k] +  self.learning_rate * (label[k] - prediction[k]) *data\n",
        "\n",
        "            self.multi_bias = self.multi_bias +  self.learning_rate * error\n",
        "            #                                         10 * 1\n",
        "            #self.multi_bias[k] = self.multi_bias[k] +  self.learning_rate * (label[k] - prediction[k])\n",
        "\n",
        "    #======================================#\n",
        "    # Trains the multi-class perceptron    #\n",
        "    # with sigmoid activation using        # \n",
        "    # labelled training data.              #\n",
        "    #======================================#\n",
        "    def train_multi_class_sigmoid(self, training_data, labels):\n",
        "        assert len(training_data) == len(labels)\n",
        "        for i in range(self.train_size):\n",
        "            data = training_data[i] #784*1 #print(data.shape)\n",
        "            data = reshape(data,(1,784))              \n",
        "            label = labels[i] #one hot encoded label\n",
        "            label = reshape(label,(10,1))\n",
        "            prediction = self.predict_multiclass_sigmoid(data)#1\n",
        "            prediction = reshape(prediction,(10,1))\n",
        "\n",
        "            #j = np.argmax(label) #getting the digit where it should be 1 #digit = np.where(r==1)\n",
        "            #k = np.argmax(prediction)\n",
        "            error = label - prediction\n",
        "\n",
        "            self.multi_weights = self.multi_weights +  self.learning_rate * np.dot(error, data)\n",
        "            #if result too bad, try taking out the k lines\n",
        "            #self.multi_weights[k] = self.multi_weights[k] +  self.learning_rate * (label[k] - prediction[k]) *data\n",
        "\n",
        "            self.multi_bias = self.multi_bias +  self.learning_rate * error\n",
        "            #self.multi_bias[k] = self.multi_bias[k] +  self.learning_rate * (label[k] - prediction[k])\n",
        "      \n",
        "    #=========================================#\n",
        "    # Tests the binary-classification         # \n",
        "    # prediction on each element of           #\n",
        "    # the testing data. Prints the precision, #\n",
        "    # recall, and accuracy of the perceptron. #\n",
        "    #=========================================#\n",
        "    def test(self, testing_data, labels):\n",
        "        assert len(testing_data) == len(labels)\n",
        "        TP = 0 #True Positive, when prediction is true and label is true\n",
        "        TN = 0 #True Negative, when prediction is false and label is false\n",
        "        FP = 0 #False Positive, when prediction is ? and label is \n",
        "        FN = 0 #False Negative, when prediction is ? and label is ?\n",
        "        accuracy = 0.0\n",
        "        precision = 0.0\n",
        "        recall = 0.0    \n",
        "        for i in range (self.test_size):\n",
        "          data = testing_data[i]\n",
        "          label = labels[i]\n",
        "          prediction = self.predict(data)\n",
        "          if (prediction == 1 and label == 1):\n",
        "            TP = TP + 1\n",
        "          elif (prediction == 0 and label == 0):\n",
        "            TN = TN + 1\n",
        "          elif (prediction == 1 and label == 0):\n",
        "            FP = FP + 1\n",
        "          elif (prediction == 0 and label == 1):\n",
        "            FN = FN + 1\n",
        "\n",
        "        #assert (TP+TN+FP+FN) == self.test_size\n",
        "        sum = TP+TN+FP+FN\n",
        "        accuracy = (TP+TN)/self.test_size\n",
        "        if (TP + FP) > 0 :\n",
        "          precision = TP/(TP+FP)\n",
        "        else:\n",
        "          print(\"TP + FP = 0\")\n",
        "\n",
        "        if (TP + FN) > 0:\n",
        "          recall = TP/(TP+FN)\n",
        "        else:\n",
        "          print(\"TP + FN = 0\")\n",
        "\n",
        "        print(\"TP+TN+FP+FN:\\t\"+ str(sum))\n",
        "        print(\"TP:\\t\"+ str(TP))\n",
        "        print(\"TN:\\t\"+ str(TN))\n",
        "        print(\"FP:\\t\"+ str(FP))\n",
        "        print(\"FN:\\t\"+ str(FN))\n",
        "        print(\"Accuracy:\\t\"+str(accuracy))\n",
        "        print(\"Precision:\\t\"+str(precision))\n",
        "        print(\"Recall:\\t\"+str(recall))\n",
        "\n",
        "    #=========================================#\n",
        "    # Tests the prediction on each element of #\n",
        "    # the testing data. Prints the precision, #\n",
        "    # recall, and accuracy.                   #\n",
        "    #=========================================#\n",
        "    def compute_confusion_matrix(self, true, pred):\n",
        "    #'''Computes a confusion matrix using numpy for two np.arrays\n",
        "    #true and pred.\n",
        "    #\n",
        "    #Results are identical (and similar in computation time) to: \n",
        "    #  \"from sklearn.metrics import confusion_matrix\"\n",
        "    #\n",
        "    #However, this function avoids the dependency on sklearn.'''\n",
        "        K = len(true)\n",
        "        result = np.zeros((K, K))\n",
        "        for i in range(K):\n",
        "          result[int(true[i])][int(pred[i])] += 1\n",
        "        return result\n",
        "\n",
        "    def evalutation(self, confusion_matrix):\n",
        "        \n",
        "        TP = np.zeros(10)\n",
        "        FP = np.zeros(10)\n",
        "        TN = np.zeros(10)\n",
        "        FN = np.zeros(10)\n",
        "        for k in range(no_of_different_labels):#different labels\n",
        "          for i in range(no_of_different_labels): #rows #label\n",
        "            for j in range(no_of_different_labels): #columns #prediction\n",
        "              if (k == i and i == j):\n",
        "                TP[k] += confusion_matrix[i][j]\n",
        "              if (k != i and k != j):\n",
        "                TN[k] += confusion_matrix[i][j]\n",
        "              if (k != i and k == j):    \n",
        "                FP[k] += confusion_matrix[i][j]\n",
        "              if (k == i and k != j):\n",
        "                FN[k] += confusion_matrix[i][j]\n",
        "        print(\"TP:\", TP)\n",
        "        print(\"FP:\", FP)\n",
        "        print(\"TN:\", TN)\n",
        "        print(\"FN:\", FN)\n",
        "        print(\"TP+FP+TN+FN\",TP+FP+TN+FN)\n",
        "        \n",
        "        TP = np.ma.array(TP, mask=np.isnan(TP))\n",
        "        FP = np.ma.array(FP, mask=np.isnan(FP))\n",
        "        TN = np.ma.array(TN, mask=np.isnan(TN))\n",
        "        FN = np.ma.array(FN, mask=np.isnan(FN))\n",
        "\n",
        "        accuracy = 1/10 * np.sum((TP+TN)/(TP+FP+TN+FN))\n",
        "        precision = 1/10 * np.sum(TP/(TP+FP))\n",
        "        recall = 1/10 * np.sum(TP/(TP+FN))\n",
        "        f1 = 2 * precision * recall / (precision + recall)\n",
        "\n",
        "        print(\"accuracy:\", accuracy)\n",
        "        print(\"precision:\", precision)\n",
        "        print(\"recall:\", recall)\n",
        "        print(\"F1 score:\", f1)\n",
        "\n",
        "\n",
        "    #=========================================#\n",
        "    # Tests the multi-class prediction on     #\n",
        "    # each element of the testing data.       # \n",
        "    # Prints the label,predicted value and    #\n",
        "    # accuracy of the perceptron.             #                \n",
        "    #=========================================#\n",
        "    def test_multi_class(self, testing_data, labels):\n",
        "        assert len(testing_data) == len(labels)\n",
        "        predict = np.zeros(self.test_size)\n",
        "        actual = np.zeros(self.test_size)\n",
        "\n",
        "        for i in range(self.test_size):\n",
        "          data = testing_data[i] #784*1 #print(data.shape)           \n",
        "          label = labels[i] #one hot encoded label\n",
        "          prediction = self.predict_multiclass(data)#1\n",
        "\n",
        "          prediction = np.asarray(prediction)\n",
        "          max = np.amax(prediction)\n",
        "          prediction = np.asarray([int (x==max) for x in prediction])\n",
        "\n",
        "          predict[i] = int(np.argmax(prediction))#predicted digit/label\n",
        "          actual[i] = int(np.argmax(label))#actual digit/label\n",
        "\n",
        "        confusion_matrix = self.compute_confusion_matrix(actual,predict)\n",
        "        return self.evalutation(confusion_matrix)\n",
        "\n",
        "    #=========================================#\n",
        "    # Tests the multi-class prediction on     #\n",
        "    # each element of the testing data.       # \n",
        "    # Prints the label,predicted value and    #\n",
        "    # accuracy of the perceptron.             #                \n",
        "    #=========================================#\n",
        "    def test_multi_class_sigmoid(self, testing_data, labels):\n",
        "        assert len(testing_data) == len(labels)\n",
        "        predict = np.zeros(self.test_size)\n",
        "        actual = np.zeros(self.test_size)\n",
        "        for i in range(self.test_size):\n",
        "          data = testing_data[i] #784*1 #print(data.shape)           \n",
        "          label = labels[i] #one hot encoded label\n",
        "          prediction = self.predict_multiclass_sigmoid(data)#1\n",
        "\n",
        "          prediction = np.asarray(prediction)\n",
        "          max = np.amax(prediction)\n",
        "          prediction = np.asarray([int (x==max) for x in prediction])\n",
        "\n",
        "          predict[i] = int(np.argmax(prediction))#predicted digit/label\n",
        "          actual[i] = int(np.argmax(label))#actual digit/label\n",
        "\n",
        "        confusion_matrix = self.compute_confusion_matrix(actual,predict)\n",
        "        return self.evalutation(confusion_matrix)\n"
      ],
      "execution_count": null,
      "outputs": []
    },
    {
      "cell_type": "markdown",
      "metadata": {
        "id": "EqmjZSjICXG6"
      },
      "source": [
        "## Loading data and initialisation"
      ]
    },
    {
      "cell_type": "code",
      "metadata": {
        "id": "Nq4oBKhbCOtI"
      },
      "source": [
        "image_size = 28\n",
        "no_of_different_labels = 10\n",
        "image_pixels = image_size * image_size\n",
        "data_path = \"/content/drive/MyDrive/Colab Notebooks/DLNNAssignment2/\"\n",
        "train_data_10 = np.loadtxt(data_path + \"mnist_train_10.csv\", delimiter = \",\")\n",
        "train_data = np.loadtxt(data_path + \"mnist_train.csv\", delimiter = \",\")\n",
        "test_data = np.loadtxt(data_path + \"mnist_test.csv\", delimiter = \",\")\n",
        "\n",
        "fac = 0.99 / 255\n",
        "train_imgs_10 = np.asfarray(train_data_10[:, 1:]) * fac + 0.01\n",
        "train_imgs = np.asfarray(train_data[:, 1:]) * fac + 0.01\n",
        "test_imgs = np.asfarray(test_data[:, 1:]) * fac + 0.01\n",
        "\n",
        "train_labels_10 = np.asfarray(train_data_10[:, :1])\n",
        "train_labels = np.asfarray(train_data[:, :1])\n",
        "test_labels = np.asfarray(test_data[:, :1])"
      ],
      "execution_count": null,
      "outputs": []
    },
    {
      "cell_type": "markdown",
      "metadata": {
        "id": "IKjoaLT0DIxW"
      },
      "source": [
        "## Binary Labels"
      ]
    },
    {
      "cell_type": "code",
      "metadata": {
        "id": "u1CCg9wRDF-T"
      },
      "source": [
        "train_labels_binary = np.asfarray([int (x == 7) for x in train_labels])\n",
        "test_labels_binary = np.asfarray([int (x == 7) for x in test_labels])"
      ],
      "execution_count": null,
      "outputs": []
    },
    {
      "cell_type": "markdown",
      "metadata": {
        "id": "NavhS43CH0kc"
      },
      "source": [
        "##Multi-Class Labels"
      ]
    },
    {
      "cell_type": "code",
      "metadata": {
        "id": "p0ekxgdGH4bm"
      },
      "source": [
        "#one hot encoding labels\n",
        "lr = np.arange(no_of_different_labels)\n",
        "\n",
        "# transform labels into one hot representation\n",
        "train_labels_one_hot = (lr==train_labels).astype(np.float)\n",
        "test_labels_one_hot = (lr==test_labels).astype(np.float)\n",
        "\n",
        "# we don't want zeroes and ones in the labels neither:\n",
        "train_labels_one_hot[train_labels_one_hot==0] = 0.01\n",
        "train_labels_one_hot[train_labels_one_hot==1] = 0.99\n",
        "test_labels_one_hot[test_labels_one_hot==0] = 0.01\n",
        "test_labels_one_hot[test_labels_one_hot==1] = 0.99"
      ],
      "execution_count": null,
      "outputs": []
    },
    {
      "cell_type": "markdown",
      "metadata": {
        "id": "dEneUPXL98w1"
      },
      "source": [
        "#Answer Questions"
      ]
    },
    {
      "cell_type": "markdown",
      "metadata": {
        "id": "_EvWd91THMfu"
      },
      "source": [
        "##Q1.1 Binary Perceptron"
      ]
    },
    {
      "cell_type": "code",
      "metadata": {
        "colab": {
          "base_uri": "https://localhost:8080/"
        },
        "id": "1CjhZ3huDhR6",
        "outputId": "6536e94d-5b77-490d-b48e-a07ed61f7c85"
      },
      "source": [
        "p1 = Perceptron(image_size * image_size)\n",
        "p1.print_details()\n",
        "\n",
        "p1.train(train_imgs,train_labels_binary)\n",
        "p1.print_details()\n",
        "\n",
        "p1.test(test_imgs,test_labels_binary)"
      ],
      "execution_count": null,
      "outputs": [
        {
          "output_type": "stream",
          "text": [
            "No. inputs:\t784\n",
            "Train size:\t60000\n",
            "Test size:\t10000\n",
            "Max iterations:\t20\n",
            "Learning rate:\t0.1\n",
            "Weights:\t[0.00127551 0.00127551 0.00127551 0.00127551 0.00127551 0.00127551\n",
            " 0.00127551 0.00127551 0.00127551 0.00127551 0.00127551 0.00127551\n",
            " 0.00127551 0.00127551 0.00127551 0.00127551 0.00127551 0.00127551\n",
            " 0.00127551 0.00127551 0.00127551 0.00127551 0.00127551 0.00127551\n",
            " 0.00127551 0.00127551 0.00127551 0.00127551 0.00127551 0.00127551\n",
            " 0.00127551 0.00127551 0.00127551 0.00127551 0.00127551 0.00127551\n",
            " 0.00127551 0.00127551 0.00127551 0.00127551 0.00127551 0.00127551\n",
            " 0.00127551 0.00127551 0.00127551 0.00127551 0.00127551 0.00127551\n",
            " 0.00127551 0.00127551 0.00127551 0.00127551 0.00127551 0.00127551\n",
            " 0.00127551 0.00127551 0.00127551 0.00127551 0.00127551 0.00127551\n",
            " 0.00127551 0.00127551 0.00127551 0.00127551 0.00127551 0.00127551\n",
            " 0.00127551 0.00127551 0.00127551 0.00127551 0.00127551 0.00127551\n",
            " 0.00127551 0.00127551 0.00127551 0.00127551 0.00127551 0.00127551\n",
            " 0.00127551 0.00127551 0.00127551 0.00127551 0.00127551 0.00127551\n",
            " 0.00127551 0.00127551 0.00127551 0.00127551 0.00127551 0.00127551\n",
            " 0.00127551 0.00127551 0.00127551 0.00127551 0.00127551 0.00127551\n",
            " 0.00127551 0.00127551 0.00127551 0.00127551 0.00127551 0.00127551\n",
            " 0.00127551 0.00127551 0.00127551 0.00127551 0.00127551 0.00127551\n",
            " 0.00127551 0.00127551 0.00127551 0.00127551 0.00127551 0.00127551\n",
            " 0.00127551 0.00127551 0.00127551 0.00127551 0.00127551 0.00127551\n",
            " 0.00127551 0.00127551 0.00127551 0.00127551 0.00127551 0.00127551\n",
            " 0.00127551 0.00127551 0.00127551 0.00127551 0.00127551 0.00127551\n",
            " 0.00127551 0.00127551 0.00127551 0.00127551 0.00127551 0.00127551\n",
            " 0.00127551 0.00127551 0.00127551 0.00127551 0.00127551 0.00127551\n",
            " 0.00127551 0.00127551 0.00127551 0.00127551 0.00127551 0.00127551\n",
            " 0.00127551 0.00127551 0.00127551 0.00127551 0.00127551 0.00127551\n",
            " 0.00127551 0.00127551 0.00127551 0.00127551 0.00127551 0.00127551\n",
            " 0.00127551 0.00127551 0.00127551 0.00127551 0.00127551 0.00127551\n",
            " 0.00127551 0.00127551 0.00127551 0.00127551 0.00127551 0.00127551\n",
            " 0.00127551 0.00127551 0.00127551 0.00127551 0.00127551 0.00127551\n",
            " 0.00127551 0.00127551 0.00127551 0.00127551 0.00127551 0.00127551\n",
            " 0.00127551 0.00127551 0.00127551 0.00127551 0.00127551 0.00127551\n",
            " 0.00127551 0.00127551 0.00127551 0.00127551 0.00127551 0.00127551\n",
            " 0.00127551 0.00127551 0.00127551 0.00127551 0.00127551 0.00127551\n",
            " 0.00127551 0.00127551 0.00127551 0.00127551 0.00127551 0.00127551\n",
            " 0.00127551 0.00127551 0.00127551 0.00127551 0.00127551 0.00127551\n",
            " 0.00127551 0.00127551 0.00127551 0.00127551 0.00127551 0.00127551\n",
            " 0.00127551 0.00127551 0.00127551 0.00127551 0.00127551 0.00127551\n",
            " 0.00127551 0.00127551 0.00127551 0.00127551 0.00127551 0.00127551\n",
            " 0.00127551 0.00127551 0.00127551 0.00127551 0.00127551 0.00127551\n",
            " 0.00127551 0.00127551 0.00127551 0.00127551 0.00127551 0.00127551\n",
            " 0.00127551 0.00127551 0.00127551 0.00127551 0.00127551 0.00127551\n",
            " 0.00127551 0.00127551 0.00127551 0.00127551 0.00127551 0.00127551\n",
            " 0.00127551 0.00127551 0.00127551 0.00127551 0.00127551 0.00127551\n",
            " 0.00127551 0.00127551 0.00127551 0.00127551 0.00127551 0.00127551\n",
            " 0.00127551 0.00127551 0.00127551 0.00127551 0.00127551 0.00127551\n",
            " 0.00127551 0.00127551 0.00127551 0.00127551 0.00127551 0.00127551\n",
            " 0.00127551 0.00127551 0.00127551 0.00127551 0.00127551 0.00127551\n",
            " 0.00127551 0.00127551 0.00127551 0.00127551 0.00127551 0.00127551\n",
            " 0.00127551 0.00127551 0.00127551 0.00127551 0.00127551 0.00127551\n",
            " 0.00127551 0.00127551 0.00127551 0.00127551 0.00127551 0.00127551\n",
            " 0.00127551 0.00127551 0.00127551 0.00127551 0.00127551 0.00127551\n",
            " 0.00127551 0.00127551 0.00127551 0.00127551 0.00127551 0.00127551\n",
            " 0.00127551 0.00127551 0.00127551 0.00127551 0.00127551 0.00127551\n",
            " 0.00127551 0.00127551 0.00127551 0.00127551 0.00127551 0.00127551\n",
            " 0.00127551 0.00127551 0.00127551 0.00127551 0.00127551 0.00127551\n",
            " 0.00127551 0.00127551 0.00127551 0.00127551 0.00127551 0.00127551\n",
            " 0.00127551 0.00127551 0.00127551 0.00127551 0.00127551 0.00127551\n",
            " 0.00127551 0.00127551 0.00127551 0.00127551 0.00127551 0.00127551\n",
            " 0.00127551 0.00127551 0.00127551 0.00127551 0.00127551 0.00127551\n",
            " 0.00127551 0.00127551 0.00127551 0.00127551 0.00127551 0.00127551\n",
            " 0.00127551 0.00127551 0.00127551 0.00127551 0.00127551 0.00127551\n",
            " 0.00127551 0.00127551 0.00127551 0.00127551 0.00127551 0.00127551\n",
            " 0.00127551 0.00127551 0.00127551 0.00127551 0.00127551 0.00127551\n",
            " 0.00127551 0.00127551 0.00127551 0.00127551 0.00127551 0.00127551\n",
            " 0.00127551 0.00127551 0.00127551 0.00127551 0.00127551 0.00127551\n",
            " 0.00127551 0.00127551 0.00127551 0.00127551 0.00127551 0.00127551\n",
            " 0.00127551 0.00127551 0.00127551 0.00127551 0.00127551 0.00127551\n",
            " 0.00127551 0.00127551 0.00127551 0.00127551 0.00127551 0.00127551\n",
            " 0.00127551 0.00127551 0.00127551 0.00127551 0.00127551 0.00127551\n",
            " 0.00127551 0.00127551 0.00127551 0.00127551 0.00127551 0.00127551\n",
            " 0.00127551 0.00127551 0.00127551 0.00127551 0.00127551 0.00127551\n",
            " 0.00127551 0.00127551 0.00127551 0.00127551 0.00127551 0.00127551\n",
            " 0.00127551 0.00127551 0.00127551 0.00127551 0.00127551 0.00127551\n",
            " 0.00127551 0.00127551 0.00127551 0.00127551 0.00127551 0.00127551\n",
            " 0.00127551 0.00127551 0.00127551 0.00127551 0.00127551 0.00127551\n",
            " 0.00127551 0.00127551 0.00127551 0.00127551 0.00127551 0.00127551\n",
            " 0.00127551 0.00127551 0.00127551 0.00127551 0.00127551 0.00127551\n",
            " 0.00127551 0.00127551 0.00127551 0.00127551 0.00127551 0.00127551\n",
            " 0.00127551 0.00127551 0.00127551 0.00127551 0.00127551 0.00127551\n",
            " 0.00127551 0.00127551 0.00127551 0.00127551 0.00127551 0.00127551\n",
            " 0.00127551 0.00127551 0.00127551 0.00127551 0.00127551 0.00127551\n",
            " 0.00127551 0.00127551 0.00127551 0.00127551 0.00127551 0.00127551\n",
            " 0.00127551 0.00127551 0.00127551 0.00127551 0.00127551 0.00127551\n",
            " 0.00127551 0.00127551 0.00127551 0.00127551 0.00127551 0.00127551\n",
            " 0.00127551 0.00127551 0.00127551 0.00127551 0.00127551 0.00127551\n",
            " 0.00127551 0.00127551 0.00127551 0.00127551 0.00127551 0.00127551\n",
            " 0.00127551 0.00127551 0.00127551 0.00127551 0.00127551 0.00127551\n",
            " 0.00127551 0.00127551 0.00127551 0.00127551 0.00127551 0.00127551\n",
            " 0.00127551 0.00127551 0.00127551 0.00127551 0.00127551 0.00127551\n",
            " 0.00127551 0.00127551 0.00127551 0.00127551 0.00127551 0.00127551\n",
            " 0.00127551 0.00127551 0.00127551 0.00127551 0.00127551 0.00127551\n",
            " 0.00127551 0.00127551 0.00127551 0.00127551 0.00127551 0.00127551\n",
            " 0.00127551 0.00127551 0.00127551 0.00127551 0.00127551 0.00127551\n",
            " 0.00127551 0.00127551 0.00127551 0.00127551 0.00127551 0.00127551\n",
            " 0.00127551 0.00127551 0.00127551 0.00127551 0.00127551 0.00127551\n",
            " 0.00127551 0.00127551 0.00127551 0.00127551 0.00127551 0.00127551\n",
            " 0.00127551 0.00127551 0.00127551 0.00127551 0.00127551 0.00127551\n",
            " 0.00127551 0.00127551 0.00127551 0.00127551 0.00127551 0.00127551\n",
            " 0.00127551 0.00127551 0.00127551 0.00127551 0.00127551 0.00127551\n",
            " 0.00127551 0.00127551 0.00127551 0.00127551 0.00127551 0.00127551\n",
            " 0.00127551 0.00127551 0.00127551 0.00127551 0.00127551 0.00127551\n",
            " 0.00127551 0.00127551 0.00127551 0.00127551 0.00127551 0.00127551\n",
            " 0.00127551 0.00127551 0.00127551 0.00127551 0.00127551 0.00127551\n",
            " 0.00127551 0.00127551 0.00127551 0.00127551 0.00127551 0.00127551\n",
            " 0.00127551 0.00127551 0.00127551 0.00127551 0.00127551 0.00127551\n",
            " 0.00127551 0.00127551 0.00127551 0.00127551 0.00127551 0.00127551\n",
            " 0.00127551 0.00127551 0.00127551 0.00127551 0.00127551 0.00127551\n",
            " 0.00127551 0.00127551 0.00127551 0.00127551 0.00127551 0.00127551\n",
            " 0.00127551 0.00127551 0.00127551 0.00127551 0.00127551 0.00127551\n",
            " 0.00127551 0.00127551 0.00127551 0.00127551 0.00127551 0.00127551\n",
            " 0.00127551 0.00127551 0.00127551 0.00127551 0.00127551 0.00127551\n",
            " 0.00127551 0.00127551 0.00127551 0.00127551 0.00127551 0.00127551\n",
            " 0.00127551 0.00127551 0.00127551 0.00127551 0.00127551 0.00127551\n",
            " 0.00127551 0.00127551 0.00127551 0.00127551 0.00127551 0.00127551\n",
            " 0.00127551 0.00127551 0.00127551 0.00127551 0.00127551 0.00127551\n",
            " 0.00127551 0.00127551 0.00127551 0.00127551 0.00127551 0.00127551\n",
            " 0.00127551 0.00127551 0.00127551 0.00127551 0.00127551 0.00127551\n",
            " 0.00127551 0.00127551 0.00127551 0.00127551 0.00127551 0.00127551\n",
            " 0.00127551 0.00127551 0.00127551 0.00127551 0.00127551 0.00127551\n",
            " 0.00127551 0.00127551 0.00127551 0.00127551 0.00127551 0.00127551\n",
            " 0.00127551 0.00127551 0.00127551 0.00127551 0.00127551 0.00127551\n",
            " 0.00127551 0.00127551 0.00127551 0.00127551 0.00127551 0.00127551\n",
            " 0.00127551 0.00127551 0.00127551 0.00127551 0.00127551 0.00127551\n",
            " 0.00127551 0.00127551 0.00127551 0.00127551 0.00127551 0.00127551\n",
            " 0.00127551 0.00127551 0.00127551 0.00127551 0.00127551 0.00127551\n",
            " 0.00127551 0.00127551 0.00127551 0.00127551 0.00127551 0.00127551\n",
            " 0.00127551 0.00127551 0.00127551 0.00127551 0.00127551 0.00127551\n",
            " 0.00127551 0.00127551 0.00127551 0.00127551 0.00127551 0.00127551\n",
            " 0.00127551 0.00127551 0.00127551 0.00127551 0.00127551 0.00127551\n",
            " 0.00127551 0.00127551 0.00127551 0.00127551]\n",
            "Bias:\t0\n",
            "No. inputs:\t784\n",
            "Train size:\t60000\n",
            "Test size:\t10000\n",
            "Max iterations:\t20\n",
            "Learning rate:\t0.1\n",
            "Weights:\t[-0.00272449 -0.00272449 -0.00272449 -0.00272449 -0.00272449 -0.00272449\n",
            " -0.00272449 -0.00272449 -0.00272449 -0.00272449 -0.00272449 -0.00272449\n",
            " -0.00272449 -0.00272449 -0.00272449 -0.00272449 -0.00272449 -0.00272449\n",
            " -0.00272449 -0.00272449 -0.00272449 -0.00272449 -0.00272449 -0.00272449\n",
            " -0.00272449 -0.00272449 -0.00272449 -0.00272449 -0.00272449 -0.00272449\n",
            " -0.00272449 -0.00272449 -0.00272449 -0.00272449 -0.00272449 -0.00272449\n",
            " -0.00272449 -0.00272449 -0.00272449 -0.04659508 -0.06794802 -0.00272449\n",
            " -0.00272449 -0.00272449 -0.00272449 -0.00272449 -0.00272449 -0.00272449\n",
            " -0.00272449 -0.00272449 -0.00272449 -0.00272449 -0.00272449 -0.00272449\n",
            " -0.00272449 -0.00272449 -0.00272449 -0.00272449 -0.00272449 -0.00272449\n",
            " -0.00272449 -0.00272449 -0.00272449 -0.00272449 -0.00272449 -0.00272449\n",
            " -0.05203037 -0.15141861 -0.08386567 -0.00272449 -0.00272449 -0.00272449\n",
            " -0.02291273 -0.0962892  -0.10133625 -0.08774802 -0.01514802 -0.00272449\n",
            " -0.00272449 -0.00272449 -0.00272449 -0.00272449 -0.00272449 -0.00272449\n",
            " -0.00272449 -0.00272449 -0.00272449 -0.00272449 -0.00272449 -0.00272449\n",
            " -0.00272449 -0.00272449 -0.06057155 -0.10172449 -0.12230096 -0.21004214\n",
            " -0.23100684 -0.15607743 -0.19606567 -0.22518331 -0.19723037 -0.10483037\n",
            " -0.10094802 -0.09007743 -0.01747743 -0.00272449 -0.00272449 -0.00272449\n",
            " -0.00272449 -0.00272449 -0.00272449 -0.00272449 -0.00272449 -0.00272449\n",
            " -0.00272449 -0.00272449 -0.00272449 -0.00272449 -0.00272449 -0.03339508\n",
            " -0.27099508 -0.46511273 -0.7442539  -0.77298331 -0.68795978 -0.6518539\n",
            " -0.79899508 -0.51674802 -0.50937155 -0.70775978 -0.68407743 -0.65495978\n",
            " -0.39561861  0.04580492  0.01668727 -0.03106567 -0.08464214 -0.01631273\n",
            " -0.00272449 -0.00272449 -0.00272449 -0.00272449 -0.00272449 -0.00272449\n",
            " -0.03067743  0.12073433  0.0621108  -0.09473625 -0.02951273  0.1071461\n",
            " -0.31952449 -0.19490096 -0.3086539  -0.1898539  -0.39212449 -0.20460684\n",
            " -0.6716539  -1.12239508 -1.18761861 -1.25284214 -1.28623037 -0.84558331\n",
            " -0.47210096 -0.37193625 -0.1424892  -0.02097155 -0.00272449 -0.00272449\n",
            " -0.00272449 -0.00272449  0.09627551  0.35833433  0.22439316  0.24108727\n",
            "  0.53265198  0.34862845  0.60098139  0.1743108   0.22245198  0.2721461\n",
            "  0.29699316 -0.19101861  0.09705198  0.19644022  0.03842845  0.36066375\n",
            " -0.36378331 -0.40843037  0.1611108   0.09472257 -0.58818331 -0.75823037\n",
            " -0.27837155 -0.0896892  -0.00272449 -0.00272449 -0.00272449  0.01435786\n",
            "  0.27641669  0.58700492  0.30786375 -0.15297155  0.17819316  0.41462845\n",
            " -0.16423037  0.32533433  0.53769904 -0.22091273  0.27564022  0.02212257\n",
            " -0.69611273 -0.3272892   0.56720492  0.44956963  0.70425198  0.06482845\n",
            "  0.68406375  0.39987551  0.14829904 -0.19490096 -0.49423037 -0.29972449\n",
            " -0.02407743 -0.00272449 -0.00272449  0.0819108   0.2469108   0.54779316\n",
            "  0.2127461   0.09161669  0.20265198  1.07579316  0.67435786  1.02027551\n",
            "  0.38589904  0.70308727  0.80325198  0.08462845 -0.62661861  0.3195108\n",
            "  0.28922845  0.52644022  0.49732257  0.18673433  0.53808727 -0.33117155\n",
            "  0.5889461   0.30048727 -0.3614539  -0.55557155 -0.1238539  -0.00272449\n",
            " -0.00272449  0.12616963  0.0753108   0.42860492  0.59166375  0.47635786\n",
            "  0.00736963  0.42782845  0.5109108   0.22555786  0.02716963  0.36221669\n",
            "  1.16702845  0.33542845  1.15460492  0.02445198  0.66542845  1.10025198\n",
            "  0.03415786  0.11801669  0.41346375  0.10365198  0.83081669  0.2667108\n",
            " -0.24459508 -0.19024214  0.01513433  0.07647551 -0.00272449  0.10287551\n",
            "  0.27408727  0.23487551  0.51285198  0.91273433 -0.05280684 -0.01204214\n",
            " -0.10172449 -0.0830892  -0.18558331 -0.42551273 -0.28419508  1.04124022\n",
            "  0.65378139  0.4173461   1.12820492  0.63398139  0.82926375  0.43209904\n",
            "  1.52498139  0.62000492  0.93136963 -0.11298331 -0.30399508 -0.0446539\n",
            " -0.06018331  0.01862845 -0.00272449  0.1863461   0.82965198  0.97329904\n",
            "  0.43481669  0.1533461  -0.23644214  0.1149108  -0.12074802  0.18246375\n",
            " -0.17160684  0.17664022 -0.42861861  0.4041461   0.31562845  0.73181669\n",
            "  0.41928727  0.38900492  0.96747551 -0.2690539   1.08744022  0.14985198\n",
            "  0.61767551 -0.36067743 -0.35563037 -0.16578331 -0.14093625  0.00426375\n",
            " -0.00272449  0.2589461   0.66969904  1.24622845  1.19964022  0.59360492\n",
            "  0.03338139  0.46315786  0.75666375 -0.17859508 -0.51131273 -0.20072449\n",
            " -0.86460684 -1.49044214 -0.82461861  0.22439316  0.10132257  0.81916963\n",
            " -0.00621861 -1.16277155  0.23060492  0.07569904  0.05822845 -0.74774802\n",
            " -0.4406539  -0.0698892   0.01901669  0.02328727 -0.00272449  0.15101669\n",
            "  0.38473433  0.83392257  0.78500492  0.57380492  0.23992257  0.13742845\n",
            " -0.07338331 -0.54741861  0.14635786 -0.68097155 -1.63292449 -2.65437155\n",
            " -1.51140684  0.13898139  0.49188727  0.20109904 -0.24575978 -0.94652449\n",
            "  0.16809904  0.5493461   0.10404022 -0.32884214 -0.11375978  0.05279316\n",
            "  0.03299316 -0.00272449 -0.00272449  0.07880492  0.27641669  0.49033433\n",
            "  0.16149904 -0.32418331 -0.38630096 -0.11143037 -0.23954802 -0.43832449\n",
            " -1.0334892  -1.28933625 -1.45821861 -1.89731273 -0.4592892   0.09122845\n",
            "  0.23332257 -0.02718331  0.40919316  0.4833461   0.99775786  0.48645198\n",
            "  0.65378139  0.51440492 -0.11453625  0.07104022 -0.00272449 -0.00272449\n",
            " -0.00272449 -0.00272449  0.09122845  0.36066375  0.02406375 -0.48918331\n",
            " -0.85257155 -0.44686567 -1.2644892  -0.9620539  -1.12938331 -1.29050096\n",
            " -1.33010096 -1.38717155 -0.56294802  0.19178139  0.12500492  1.27689904\n",
            "  0.11568727  0.20342845  1.17052257  1.04978139  0.50236963  0.0819108\n",
            " -0.05552449 -0.26555978 -0.00272449 -0.00272449 -0.00272449 -0.00272449\n",
            " -0.03766567  0.0093108   0.14635786 -0.2546892  -0.46860684 -0.22790096\n",
            " -0.64719508 -0.31137155 -1.03271273 -1.33359508 -0.47132449 -0.02873625\n",
            " -0.33932449  0.28612257 -0.1490892   0.33659316  0.3657108   0.14053433\n",
            "  0.58428727  0.3525108  -0.04931273 -0.21237155 -0.23993625 -0.32418331\n",
            " -0.1172539  -0.00272449 -0.00272449 -0.00272449 -0.02640684 -0.14054802\n",
            "  0.08889904 -0.18170096 -0.35252449 -0.5726539  -0.6122539  -0.82733625\n",
            " -1.40037155 -0.95623037 -0.07843037 -0.05552449 -0.25391273  0.30436963\n",
            " -0.57304214  0.15140492  0.46315786 -0.31991273 -0.21703037 -0.3548539\n",
            " -0.17121861 -0.59400684 -0.25624214 -0.18713625 -0.06212449 -0.00272449\n",
            " -0.00272449 -0.00272449 -0.03223037 -0.04310096  0.04269904 -0.59361861\n",
            " -1.18490096 -0.91430096 -0.65030096 -0.97175978 -1.25944214 -0.77997155\n",
            " -0.84558331  0.04308727  0.03144022 -0.72678331 -1.08124214 -0.27293625\n",
            " -0.76521861 -0.49384214 -0.31835978 -0.45230096 -0.66699508 -0.96671273\n",
            " -0.45463037  0.00620492  0.03726375 -0.00272449 -0.00272449  0.03493433\n",
            " -0.05397155 -0.16578331 -0.15180684 -0.59517155 -1.09483037 -1.22411273\n",
            " -0.85994802 -0.74658331 -0.82655978 -0.48607743  0.27913433  0.42860492\n",
            "  0.23798139  0.06172257 -0.69339508 -0.51597155 -1.17364214 -0.24886567\n",
            " -0.4460892  -1.04979508 -1.22877155 -0.87858331 -0.17354802 -0.11686567\n",
            " -0.00272449 -0.00272449 -0.00272449 -0.00272449 -0.10133625 -0.46355978\n",
            " -0.6716539  -0.61419508 -1.03115978 -1.56614802 -0.5648892  -1.05173625\n",
            " -1.0070892  -0.53926567  0.2733108  -0.31253625 -0.56683037 -0.37232449\n",
            " -1.37319508 -0.90498331 -1.02223037 -0.97913625 -0.8300539  -1.08900684\n",
            " -1.13287743 -0.60604214  0.03260492 -0.0248539  -0.00272449 -0.00272449\n",
            " -0.00272449 -0.00272449 -0.06523037 -0.5780892  -0.91740684 -0.68795978\n",
            " -0.68834802 -0.90731273 -0.61574802 -0.57498331 -0.50471273 -0.35291273\n",
            " -0.58003037 -0.3350539  -0.54897155 -0.43871273 -0.46627743 -0.63360684\n",
            " -0.40493625 -0.76055978 -0.73338331 -1.06066567 -1.0082539  -0.65107743\n",
            " -0.10871273 -0.01010096 -0.00272449 -0.00272449 -0.00272449 -0.00272449\n",
            " -0.19412449 -0.51907743 -0.86887743 -0.64447743 -0.66815978 -0.06523037\n",
            " -0.26633625  0.06366375  0.06832257 -0.51441861 -0.16423037 -0.29390096\n",
            " -0.39639508 -0.2018892  -0.24731273 -0.70659508 -0.18053625 -0.02252449\n",
            " -0.42939508 -1.1852892  -0.94652449 -0.71824214 -0.21314802 -0.08192449\n",
            " -0.00272449 -0.00272449 -0.00272449 -0.00272449 -0.20887743 -0.45773625\n",
            " -0.18480684 -0.12695978  0.26476963  0.38861669 -0.28341861 -0.63710096\n",
            " -0.19723037 -0.78346567 -0.70620684 -0.84752449 -0.90110096  0.25739316\n",
            "  0.02949904  0.01164022 -0.38164214 -0.07377155 -0.67126567 -1.31961861\n",
            " -0.87353625 -0.71319508 -0.10521861 -0.09823037 -0.00272449 -0.00272449\n",
            " -0.00272449 -0.00272449 -0.18519508 -0.10521861  0.11258139  0.66193433\n",
            "  0.81955786  0.29116963  0.23448727 -0.37232449  0.18285198 -0.24381861\n",
            "  0.2073108  -0.19606567 -0.45152449  0.47635786  0.29272257 -0.02524214\n",
            " -0.38358331 -0.0962892  -0.56178331 -0.53732449 -0.5792539  -0.62273625\n",
            " -0.22013625 -0.0908539  -0.00272449 -0.00272449 -0.00272449 -0.00272449\n",
            " -0.03921861  0.04502845  0.00853433  0.28301669  0.28922845  0.23953433\n",
            "  0.40686375  0.26942845  0.2337108   0.86381669  0.72055786 -0.07144214\n",
            " -0.07571273  0.47907551  0.50004022 -0.0038892   0.25622845 -0.20033625\n",
            " -0.47792449 -0.25119508 -0.03339508 -0.20538331 -0.02330096 -0.00272449\n",
            " -0.00272449 -0.00272449 -0.00272449 -0.00272449 -0.00272449 -0.00272449\n",
            " -0.06639508 -0.12890096 -0.36960684  0.14907551  0.23953433  0.11762845\n",
            "  0.01280492  0.67668727  0.43365198  0.04541669  0.58933433  0.63165198\n",
            "  0.33309904  0.6219461   0.49538139  0.23875786 -0.09939508 -0.04232449\n",
            "  0.1599461  -0.01980684 -0.00272449 -0.00272449 -0.00272449 -0.00272449\n",
            " -0.00272449 -0.00272449 -0.00272449 -0.00272449 -0.00272449 -0.00272449\n",
            "  0.07841669  0.18440492  0.11180492  0.03299316  0.34164022  0.11064022\n",
            "  0.02988727  0.27564022  0.32999316  0.20420492  0.32805198  0.33775786\n",
            "  0.17081669 -0.00893625 -0.00971273  0.08812257  0.17702845  0.04386375\n",
            " -0.00272449 -0.00272449 -0.00272449 -0.00272449]\n",
            "Bias:\t-0.4\n",
            "TP+TN+FP+FN:\t10000\n",
            "TP:\t903\n",
            "TN:\t8926\n",
            "FP:\t46\n",
            "FN:\t125\n",
            "Accuracy:\t0.9829\n",
            "Precision:\t0.9515279241306639\n",
            "Recall:\t0.8784046692607004\n"
          ],
          "name": "stdout"
        }
      ]
    },
    {
      "cell_type": "markdown",
      "metadata": {
        "id": "_IPaebJGlNww"
      },
      "source": [
        "TP+TN+FP+FN:\t10000 \\\n",
        "TP:\t903\\\n",
        "TN:\t8926\\\n",
        "FP:\t46\\\n",
        "FN:\t125\\\n",
        "Accuracy:\t0.9829\\\n",
        "Precision:\t0.9515279241306639\\\n",
        "Recall:\t0.8784046692607004"
      ]
    },
    {
      "cell_type": "markdown",
      "metadata": {
        "id": "J9d8I993HZyV"
      },
      "source": [
        "##Q1.2 Binary Perceptron with Batch Training"
      ]
    },
    {
      "cell_type": "code",
      "metadata": {
        "colab": {
          "base_uri": "https://localhost:8080/"
        },
        "id": "imyP63vqHZEk",
        "outputId": "6db17102-ef42-41f5-8eec-123fd4cc7d9f"
      },
      "source": [
        "p2 = Perceptron(image_size * image_size)\n",
        "p2.print_details()\n",
        "\n",
        "p2.train_batch(train_imgs,train_labels_binary)\n",
        "p2.print_details()\n",
        "\n",
        "p2.test(test_imgs,test_labels_binary)"
      ],
      "execution_count": null,
      "outputs": [
        {
          "output_type": "stream",
          "text": [
            "No. inputs:\t784\n",
            "Train size:\t60000\n",
            "Test size:\t10000\n",
            "Max iterations:\t20\n",
            "Learning rate:\t0.1\n",
            "Weights:\t[0.00127551 0.00127551 0.00127551 0.00127551 0.00127551 0.00127551\n",
            " 0.00127551 0.00127551 0.00127551 0.00127551 0.00127551 0.00127551\n",
            " 0.00127551 0.00127551 0.00127551 0.00127551 0.00127551 0.00127551\n",
            " 0.00127551 0.00127551 0.00127551 0.00127551 0.00127551 0.00127551\n",
            " 0.00127551 0.00127551 0.00127551 0.00127551 0.00127551 0.00127551\n",
            " 0.00127551 0.00127551 0.00127551 0.00127551 0.00127551 0.00127551\n",
            " 0.00127551 0.00127551 0.00127551 0.00127551 0.00127551 0.00127551\n",
            " 0.00127551 0.00127551 0.00127551 0.00127551 0.00127551 0.00127551\n",
            " 0.00127551 0.00127551 0.00127551 0.00127551 0.00127551 0.00127551\n",
            " 0.00127551 0.00127551 0.00127551 0.00127551 0.00127551 0.00127551\n",
            " 0.00127551 0.00127551 0.00127551 0.00127551 0.00127551 0.00127551\n",
            " 0.00127551 0.00127551 0.00127551 0.00127551 0.00127551 0.00127551\n",
            " 0.00127551 0.00127551 0.00127551 0.00127551 0.00127551 0.00127551\n",
            " 0.00127551 0.00127551 0.00127551 0.00127551 0.00127551 0.00127551\n",
            " 0.00127551 0.00127551 0.00127551 0.00127551 0.00127551 0.00127551\n",
            " 0.00127551 0.00127551 0.00127551 0.00127551 0.00127551 0.00127551\n",
            " 0.00127551 0.00127551 0.00127551 0.00127551 0.00127551 0.00127551\n",
            " 0.00127551 0.00127551 0.00127551 0.00127551 0.00127551 0.00127551\n",
            " 0.00127551 0.00127551 0.00127551 0.00127551 0.00127551 0.00127551\n",
            " 0.00127551 0.00127551 0.00127551 0.00127551 0.00127551 0.00127551\n",
            " 0.00127551 0.00127551 0.00127551 0.00127551 0.00127551 0.00127551\n",
            " 0.00127551 0.00127551 0.00127551 0.00127551 0.00127551 0.00127551\n",
            " 0.00127551 0.00127551 0.00127551 0.00127551 0.00127551 0.00127551\n",
            " 0.00127551 0.00127551 0.00127551 0.00127551 0.00127551 0.00127551\n",
            " 0.00127551 0.00127551 0.00127551 0.00127551 0.00127551 0.00127551\n",
            " 0.00127551 0.00127551 0.00127551 0.00127551 0.00127551 0.00127551\n",
            " 0.00127551 0.00127551 0.00127551 0.00127551 0.00127551 0.00127551\n",
            " 0.00127551 0.00127551 0.00127551 0.00127551 0.00127551 0.00127551\n",
            " 0.00127551 0.00127551 0.00127551 0.00127551 0.00127551 0.00127551\n",
            " 0.00127551 0.00127551 0.00127551 0.00127551 0.00127551 0.00127551\n",
            " 0.00127551 0.00127551 0.00127551 0.00127551 0.00127551 0.00127551\n",
            " 0.00127551 0.00127551 0.00127551 0.00127551 0.00127551 0.00127551\n",
            " 0.00127551 0.00127551 0.00127551 0.00127551 0.00127551 0.00127551\n",
            " 0.00127551 0.00127551 0.00127551 0.00127551 0.00127551 0.00127551\n",
            " 0.00127551 0.00127551 0.00127551 0.00127551 0.00127551 0.00127551\n",
            " 0.00127551 0.00127551 0.00127551 0.00127551 0.00127551 0.00127551\n",
            " 0.00127551 0.00127551 0.00127551 0.00127551 0.00127551 0.00127551\n",
            " 0.00127551 0.00127551 0.00127551 0.00127551 0.00127551 0.00127551\n",
            " 0.00127551 0.00127551 0.00127551 0.00127551 0.00127551 0.00127551\n",
            " 0.00127551 0.00127551 0.00127551 0.00127551 0.00127551 0.00127551\n",
            " 0.00127551 0.00127551 0.00127551 0.00127551 0.00127551 0.00127551\n",
            " 0.00127551 0.00127551 0.00127551 0.00127551 0.00127551 0.00127551\n",
            " 0.00127551 0.00127551 0.00127551 0.00127551 0.00127551 0.00127551\n",
            " 0.00127551 0.00127551 0.00127551 0.00127551 0.00127551 0.00127551\n",
            " 0.00127551 0.00127551 0.00127551 0.00127551 0.00127551 0.00127551\n",
            " 0.00127551 0.00127551 0.00127551 0.00127551 0.00127551 0.00127551\n",
            " 0.00127551 0.00127551 0.00127551 0.00127551 0.00127551 0.00127551\n",
            " 0.00127551 0.00127551 0.00127551 0.00127551 0.00127551 0.00127551\n",
            " 0.00127551 0.00127551 0.00127551 0.00127551 0.00127551 0.00127551\n",
            " 0.00127551 0.00127551 0.00127551 0.00127551 0.00127551 0.00127551\n",
            " 0.00127551 0.00127551 0.00127551 0.00127551 0.00127551 0.00127551\n",
            " 0.00127551 0.00127551 0.00127551 0.00127551 0.00127551 0.00127551\n",
            " 0.00127551 0.00127551 0.00127551 0.00127551 0.00127551 0.00127551\n",
            " 0.00127551 0.00127551 0.00127551 0.00127551 0.00127551 0.00127551\n",
            " 0.00127551 0.00127551 0.00127551 0.00127551 0.00127551 0.00127551\n",
            " 0.00127551 0.00127551 0.00127551 0.00127551 0.00127551 0.00127551\n",
            " 0.00127551 0.00127551 0.00127551 0.00127551 0.00127551 0.00127551\n",
            " 0.00127551 0.00127551 0.00127551 0.00127551 0.00127551 0.00127551\n",
            " 0.00127551 0.00127551 0.00127551 0.00127551 0.00127551 0.00127551\n",
            " 0.00127551 0.00127551 0.00127551 0.00127551 0.00127551 0.00127551\n",
            " 0.00127551 0.00127551 0.00127551 0.00127551 0.00127551 0.00127551\n",
            " 0.00127551 0.00127551 0.00127551 0.00127551 0.00127551 0.00127551\n",
            " 0.00127551 0.00127551 0.00127551 0.00127551 0.00127551 0.00127551\n",
            " 0.00127551 0.00127551 0.00127551 0.00127551 0.00127551 0.00127551\n",
            " 0.00127551 0.00127551 0.00127551 0.00127551 0.00127551 0.00127551\n",
            " 0.00127551 0.00127551 0.00127551 0.00127551 0.00127551 0.00127551\n",
            " 0.00127551 0.00127551 0.00127551 0.00127551 0.00127551 0.00127551\n",
            " 0.00127551 0.00127551 0.00127551 0.00127551 0.00127551 0.00127551\n",
            " 0.00127551 0.00127551 0.00127551 0.00127551 0.00127551 0.00127551\n",
            " 0.00127551 0.00127551 0.00127551 0.00127551 0.00127551 0.00127551\n",
            " 0.00127551 0.00127551 0.00127551 0.00127551 0.00127551 0.00127551\n",
            " 0.00127551 0.00127551 0.00127551 0.00127551 0.00127551 0.00127551\n",
            " 0.00127551 0.00127551 0.00127551 0.00127551 0.00127551 0.00127551\n",
            " 0.00127551 0.00127551 0.00127551 0.00127551 0.00127551 0.00127551\n",
            " 0.00127551 0.00127551 0.00127551 0.00127551 0.00127551 0.00127551\n",
            " 0.00127551 0.00127551 0.00127551 0.00127551 0.00127551 0.00127551\n",
            " 0.00127551 0.00127551 0.00127551 0.00127551 0.00127551 0.00127551\n",
            " 0.00127551 0.00127551 0.00127551 0.00127551 0.00127551 0.00127551\n",
            " 0.00127551 0.00127551 0.00127551 0.00127551 0.00127551 0.00127551\n",
            " 0.00127551 0.00127551 0.00127551 0.00127551 0.00127551 0.00127551\n",
            " 0.00127551 0.00127551 0.00127551 0.00127551 0.00127551 0.00127551\n",
            " 0.00127551 0.00127551 0.00127551 0.00127551 0.00127551 0.00127551\n",
            " 0.00127551 0.00127551 0.00127551 0.00127551 0.00127551 0.00127551\n",
            " 0.00127551 0.00127551 0.00127551 0.00127551 0.00127551 0.00127551\n",
            " 0.00127551 0.00127551 0.00127551 0.00127551 0.00127551 0.00127551\n",
            " 0.00127551 0.00127551 0.00127551 0.00127551 0.00127551 0.00127551\n",
            " 0.00127551 0.00127551 0.00127551 0.00127551 0.00127551 0.00127551\n",
            " 0.00127551 0.00127551 0.00127551 0.00127551 0.00127551 0.00127551\n",
            " 0.00127551 0.00127551 0.00127551 0.00127551 0.00127551 0.00127551\n",
            " 0.00127551 0.00127551 0.00127551 0.00127551 0.00127551 0.00127551\n",
            " 0.00127551 0.00127551 0.00127551 0.00127551 0.00127551 0.00127551\n",
            " 0.00127551 0.00127551 0.00127551 0.00127551 0.00127551 0.00127551\n",
            " 0.00127551 0.00127551 0.00127551 0.00127551 0.00127551 0.00127551\n",
            " 0.00127551 0.00127551 0.00127551 0.00127551 0.00127551 0.00127551\n",
            " 0.00127551 0.00127551 0.00127551 0.00127551 0.00127551 0.00127551\n",
            " 0.00127551 0.00127551 0.00127551 0.00127551 0.00127551 0.00127551\n",
            " 0.00127551 0.00127551 0.00127551 0.00127551 0.00127551 0.00127551\n",
            " 0.00127551 0.00127551 0.00127551 0.00127551 0.00127551 0.00127551\n",
            " 0.00127551 0.00127551 0.00127551 0.00127551 0.00127551 0.00127551\n",
            " 0.00127551 0.00127551 0.00127551 0.00127551 0.00127551 0.00127551\n",
            " 0.00127551 0.00127551 0.00127551 0.00127551 0.00127551 0.00127551\n",
            " 0.00127551 0.00127551 0.00127551 0.00127551 0.00127551 0.00127551\n",
            " 0.00127551 0.00127551 0.00127551 0.00127551 0.00127551 0.00127551\n",
            " 0.00127551 0.00127551 0.00127551 0.00127551 0.00127551 0.00127551\n",
            " 0.00127551 0.00127551 0.00127551 0.00127551 0.00127551 0.00127551\n",
            " 0.00127551 0.00127551 0.00127551 0.00127551 0.00127551 0.00127551\n",
            " 0.00127551 0.00127551 0.00127551 0.00127551 0.00127551 0.00127551\n",
            " 0.00127551 0.00127551 0.00127551 0.00127551 0.00127551 0.00127551\n",
            " 0.00127551 0.00127551 0.00127551 0.00127551 0.00127551 0.00127551\n",
            " 0.00127551 0.00127551 0.00127551 0.00127551 0.00127551 0.00127551\n",
            " 0.00127551 0.00127551 0.00127551 0.00127551 0.00127551 0.00127551\n",
            " 0.00127551 0.00127551 0.00127551 0.00127551 0.00127551 0.00127551\n",
            " 0.00127551 0.00127551 0.00127551 0.00127551 0.00127551 0.00127551\n",
            " 0.00127551 0.00127551 0.00127551 0.00127551 0.00127551 0.00127551\n",
            " 0.00127551 0.00127551 0.00127551 0.00127551 0.00127551 0.00127551\n",
            " 0.00127551 0.00127551 0.00127551 0.00127551 0.00127551 0.00127551\n",
            " 0.00127551 0.00127551 0.00127551 0.00127551 0.00127551 0.00127551\n",
            " 0.00127551 0.00127551 0.00127551 0.00127551 0.00127551 0.00127551\n",
            " 0.00127551 0.00127551 0.00127551 0.00127551 0.00127551 0.00127551\n",
            " 0.00127551 0.00127551 0.00127551 0.00127551 0.00127551 0.00127551\n",
            " 0.00127551 0.00127551 0.00127551 0.00127551 0.00127551 0.00127551\n",
            " 0.00127551 0.00127551 0.00127551 0.00127551 0.00127551 0.00127551\n",
            " 0.00127551 0.00127551 0.00127551 0.00127551 0.00127551 0.00127551\n",
            " 0.00127551 0.00127551 0.00127551 0.00127551 0.00127551 0.00127551\n",
            " 0.00127551 0.00127551 0.00127551 0.00127551 0.00127551 0.00127551\n",
            " 0.00127551 0.00127551 0.00127551 0.00127551 0.00127551 0.00127551\n",
            " 0.00127551 0.00127551 0.00127551 0.00127551 0.00127551 0.00127551\n",
            " 0.00127551 0.00127551 0.00127551 0.00127551 0.00127551 0.00127551\n",
            " 0.00127551 0.00127551 0.00127551 0.00127551 0.00127551 0.00127551\n",
            " 0.00127551 0.00127551 0.00127551 0.00127551 0.00127551 0.00127551\n",
            " 0.00127551 0.00127551 0.00127551 0.00127551]\n",
            "Bias:\t0\n",
            "No. inputs:\t784\n",
            "Train size:\t60000\n",
            "Test size:\t10000\n",
            "Max iterations:\t20\n",
            "Learning rate:\t0.1\n",
            "Weights:\t[ 2.75510204e-04  2.75510204e-04  2.75510204e-04  2.75510204e-04\n",
            "  2.75510204e-04  2.75510204e-04  2.75510204e-04  2.75510204e-04\n",
            "  2.75510204e-04  2.75510204e-04  2.75510204e-04  2.75510204e-04\n",
            "  2.74694910e-04  2.72469028e-04  2.74112557e-04  2.75451969e-04\n",
            "  2.75510204e-04  2.75510204e-04  2.75510204e-04  2.75510204e-04\n",
            "  2.75510204e-04  2.75510204e-04  2.75510204e-04  2.75510204e-04\n",
            "  2.75510204e-04  2.75510204e-04  2.75510204e-04  2.75510204e-04\n",
            "  2.75510204e-04  2.75510204e-04  2.75510204e-04  2.75510204e-04\n",
            "  2.75406675e-04  2.75154322e-04  2.71906086e-04  2.66082557e-04\n",
            "  2.58537851e-04  2.50624322e-04  2.28870204e-04  2.13107851e-04\n",
            "  2.07886086e-04  2.06624322e-04  2.02010792e-04  2.07899028e-04\n",
            "  2.02936086e-04  2.15857851e-04  2.36641381e-04  2.47854910e-04\n",
            "  2.54616675e-04  2.67214910e-04  2.71595498e-04  2.74138439e-04\n",
            "  2.75510204e-04  2.75510204e-04  2.75510204e-04  2.75510204e-04\n",
            "  2.75510204e-04  2.75510204e-04  2.75096086e-04  2.75238439e-04\n",
            "  2.72811969e-04  2.73381381e-04  2.57224322e-04  2.21778439e-04\n",
            "  1.72944910e-04  7.88237335e-05 -6.10121489e-05 -2.25345678e-04\n",
            " -4.50625678e-04 -7.06705678e-04 -9.67470384e-04 -1.13205627e-03\n",
            " -1.16949509e-03 -1.04159744e-03 -8.12687443e-04 -5.18191561e-04\n",
            " -1.91193914e-04  2.95825570e-05  1.60527851e-04  2.39022557e-04\n",
            "  2.61837851e-04  2.72158439e-04  2.75510204e-04  2.75510204e-04\n",
            "  2.75510204e-04  2.75510204e-04  2.74254910e-04  2.73239028e-04\n",
            "  2.70844910e-04  2.48424322e-04  1.93171969e-04  6.34949100e-05\n",
            " -1.72675090e-04 -5.84780384e-04 -1.13752391e-03 -1.83571333e-03\n",
            " -2.60016803e-03 -3.48910391e-03 -4.33792215e-03 -4.86370274e-03\n",
            " -4.81992921e-03 -4.31091391e-03 -3.42967803e-03 -2.38896803e-03\n",
            " -1.35261274e-03 -6.07582737e-04 -1.36420384e-04  1.15143145e-04\n",
            "  2.12583733e-04  2.64730204e-04  2.74423145e-04  2.75510204e-04\n",
            "  2.75510204e-04  2.75264322e-04  2.73484910e-04  2.69939028e-04\n",
            "  2.44108439e-04  1.16249616e-04 -1.29509796e-04 -6.63740972e-04\n",
            " -1.57860450e-03 -2.98349862e-03 -4.89200509e-03 -7.28626509e-03\n",
            " -1.02210845e-02 -1.33950957e-02 -1.59685651e-02 -1.72931463e-02\n",
            " -1.69383898e-02 -1.49205821e-02 -1.18872092e-02 -8.62436980e-03\n",
            " -5.48241391e-03 -3.08715097e-03 -1.49017097e-03 -5.54155090e-04\n",
            " -5.94980312e-05  1.94854322e-04  2.63999028e-04  2.74720792e-04\n",
            "  2.75510204e-04  2.75510204e-04  2.71504910e-04  2.50915498e-04\n",
            "  1.21976086e-04 -2.92633325e-04 -1.11739391e-03 -2.53058333e-03\n",
            " -4.77819391e-03 -7.96203391e-03 -1.19540569e-02 -1.68869616e-02\n",
            " -2.25930433e-02 -2.83778657e-02 -3.27643745e-02 -3.48985233e-02\n",
            " -3.42478992e-02 -3.08536810e-02 -2.53258186e-02 -1.90562133e-02\n",
            " -1.30603074e-02 -8.07543097e-03 -4.53484803e-03 -2.30202921e-03\n",
            " -8.86368031e-04 -5.20309724e-05  2.20523145e-04  2.73685498e-04\n",
            "  2.75510204e-04  2.75439028e-04  2.64833733e-04  1.89541969e-04\n",
            " -1.59125678e-04 -1.00174509e-03 -2.61158862e-03 -5.25856391e-03\n",
            " -9.09561627e-03 -1.42012080e-02 -2.03457627e-02 -2.72553480e-02\n",
            " -3.43855416e-02 -4.09678769e-02 -4.57327469e-02 -4.79037716e-02\n",
            " -4.69771251e-02 -4.32197839e-02 -3.70370527e-02 -2.89063380e-02\n",
            " -2.07036057e-02 -1.34340421e-02 -7.87428627e-03 -4.16684627e-03\n",
            " -1.81621097e-03 -4.44892737e-04  1.30814910e-04  2.63746675e-04\n",
            "  2.75206086e-04  2.67849028e-04  2.33710204e-04  4.42578511e-05\n",
            " -6.22245090e-04 -2.02624627e-03 -4.55260333e-03 -8.44107097e-03\n",
            " -1.38154057e-02 -2.06497574e-02 -2.83625563e-02 -3.62586280e-02\n",
            " -4.30435833e-02 -4.82538692e-02 -5.12662645e-02 -5.22910439e-02\n",
            " -5.14912598e-02 -4.89051792e-02 -4.38073133e-02 -3.61193227e-02\n",
            " -2.68147463e-02 -1.79066680e-02 -1.06509516e-02 -5.62607391e-03\n",
            " -2.45520744e-03 -7.27314502e-04  7.63066747e-05  2.63131969e-04\n",
            "  2.73931381e-04  2.55781381e-04  1.47638439e-04 -2.35931561e-04\n",
            " -1.17964744e-03 -3.01807097e-03 -6.25390215e-03 -1.12152451e-02\n",
            " -1.79444304e-02 -2.61660310e-02 -3.47787916e-02 -4.18385916e-02\n",
            " -4.60935339e-02 -4.76303374e-02 -4.74922033e-02 -4.72214480e-02\n",
            " -4.73726269e-02 -4.71451404e-02 -4.48610874e-02 -3.87850757e-02\n",
            " -2.97420792e-02 -2.02612051e-02 -1.20744939e-02 -6.07511333e-03\n",
            " -2.51421921e-03 -7.36470384e-04  8.85425570e-05  2.64956675e-04\n",
            "  2.73620792e-04  2.44658439e-04  7.67272629e-05 -3.92015090e-04\n",
            " -1.45051274e-03 -3.53177097e-03 -7.30535980e-03 -1.31204774e-02\n",
            " -2.09613098e-02 -3.00604321e-02 -3.81748086e-02 -4.26634945e-02\n",
            " -4.27361269e-02 -4.03158939e-02 -3.81781086e-02 -3.83105680e-02\n",
            " -4.02303269e-02 -4.27728216e-02 -4.28489933e-02 -3.82168221e-02\n",
            " -2.96343504e-02 -2.01867286e-02 -1.19338751e-02 -5.70048568e-03\n",
            " -2.03881215e-03 -4.61347443e-04  1.38916086e-04  2.64555498e-04\n",
            "  2.72921969e-04  2.37243145e-04  7.24502041e-05 -3.74622149e-04\n",
            " -1.38966333e-03 -3.55886980e-03 -7.69857744e-03 -1.41625851e-02\n",
            " -2.29080057e-02 -3.21028216e-02 -3.86357216e-02 -3.97782657e-02\n",
            " -3.61767298e-02 -3.19297010e-02 -3.05592369e-02 -3.25400845e-02\n",
            " -3.61675869e-02 -4.02669439e-02 -4.09865963e-02 -3.63047439e-02\n",
            " -2.76188333e-02 -1.84829516e-02 -1.07807257e-02 -4.96495450e-03\n",
            " -1.51056627e-03 -1.70999208e-04  1.89386675e-04  2.68237263e-04\n",
            "  2.73206675e-04  2.45849028e-04  1.12108439e-04 -2.21573325e-04\n",
            " -1.14002803e-03 -3.43365097e-03 -7.92915685e-03 -1.51974198e-02\n",
            " -2.46061857e-02 -3.35823604e-02 -3.80745986e-02 -3.65551492e-02\n",
            " -3.14369204e-02 -2.81987404e-02 -2.92866921e-02 -3.28897033e-02\n",
            " -3.74969886e-02 -4.14530221e-02 -4.06869757e-02 -3.42888839e-02\n",
            " -2.49381786e-02 -1.62232798e-02 -9.56279921e-03 -4.60857391e-03\n",
            " -1.27350333e-03  4.08090276e-05  2.27174910e-04  2.72339616e-04\n",
            "  2.74034910e-04  2.58550792e-04  1.81544322e-04 -6.56774430e-05\n",
            " -9.15919208e-04 -3.45444097e-03 -8.56770685e-03 -1.66418557e-02\n",
            " -2.65015957e-02 -3.47653263e-02 -3.77303245e-02 -3.50860216e-02\n",
            " -3.06694633e-02 -3.05383821e-02 -3.44089263e-02 -3.92136551e-02\n",
            " -4.36097792e-02 -4.53736227e-02 -4.14313327e-02 -3.25377033e-02\n",
            " -2.24700957e-02 -1.45797116e-02 -8.94089803e-03 -4.65977568e-03\n",
            " -1.39185038e-03  1.03424910e-04  2.44535498e-04  2.71563145e-04\n",
            "  2.75303145e-04  2.68424910e-04  2.27906086e-04  3.97219688e-05\n",
            " -8.57295678e-04 -3.85304862e-03 -9.64537685e-03 -1.81981680e-02\n",
            " -2.79228863e-02 -3.53154363e-02 -3.73399927e-02 -3.50918451e-02\n",
            " -3.34494416e-02 -3.73703269e-02 -4.29629663e-02 -4.78548216e-02\n",
            " -5.01199739e-02 -4.88749033e-02 -4.19956780e-02 -3.12327474e-02\n",
            " -2.11651204e-02 -1.41686286e-02 -9.03157685e-03 -5.02147509e-03\n",
            " -1.70553156e-03  4.85090276e-05  2.43293145e-04  2.71291381e-04\n",
            "  2.74779028e-04  2.72307263e-04  2.54480792e-04  9.45213806e-05\n",
            " -9.14657443e-04 -4.51968744e-03 -1.08000921e-02 -1.93336269e-02\n",
            " -2.83570821e-02 -3.48089963e-02 -3.66367304e-02 -3.59423910e-02\n",
            " -3.77051410e-02 -4.45351186e-02 -5.02988339e-02 -5.39041227e-02\n",
            " -5.29517945e-02 -4.94518986e-02 -4.12635374e-02 -3.06101410e-02\n",
            " -2.15031569e-02 -1.48435627e-02 -9.63903568e-03 -5.39903391e-03\n",
            " -1.94581038e-03 -4.29592077e-05  2.39617851e-04  2.74649616e-04\n",
            "  2.75225498e-04  2.74009028e-04  2.58000792e-04  7.92249100e-05\n",
            " -1.10682744e-03 -5.31824215e-03 -1.17552480e-02 -1.96058769e-02\n",
            " -2.74601874e-02 -3.30087621e-02 -3.52018321e-02 -3.63127286e-02\n",
            " -4.05074880e-02 -4.75567086e-02 -5.24039169e-02 -5.37319210e-02\n",
            " -5.08956486e-02 -4.68704510e-02 -3.90683710e-02 -3.01540874e-02\n",
            " -2.23519686e-02 -1.57395580e-02 -1.01991233e-02 -5.50554627e-03\n",
            " -1.98723509e-03 -1.43615678e-04  2.17967263e-04  2.71304322e-04\n",
            "  2.75251381e-04  2.73970204e-04  2.46651381e-04  3.36525570e-05\n",
            " -1.45988862e-03 -6.14161803e-03 -1.23634574e-02 -1.91147980e-02\n",
            " -2.54690386e-02 -2.99626874e-02 -3.22225210e-02 -3.44515221e-02\n",
            " -3.89890610e-02 -4.47044216e-02 -4.88259339e-02 -4.91960127e-02\n",
            " -4.67230186e-02 -4.29032816e-02 -3.67513957e-02 -2.97563469e-02\n",
            " -2.28661604e-02 -1.60460310e-02 -1.01015404e-02 -5.25417038e-03\n",
            " -1.90464450e-03 -2.24187443e-04  2.01163145e-04  2.70734910e-04\n",
            "  2.75510204e-04  2.72682557e-04  2.31950204e-04 -9.46139136e-05\n",
            " -2.03535685e-03 -6.91631568e-03 -1.27114263e-02 -1.84282492e-02\n",
            " -2.31974027e-02 -2.65973733e-02 -2.87184516e-02 -3.10693263e-02\n",
            " -3.45051504e-02 -3.93052398e-02 -4.34461898e-02 -4.45411751e-02\n",
            " -4.33018957e-02 -4.03044539e-02 -3.56853986e-02 -2.97201245e-02\n",
            " -2.27579139e-02 -1.55677121e-02 -9.40814568e-03 -4.70741215e-03\n",
            " -1.72648333e-03 -2.74489796e-04  1.93967851e-04  2.72061381e-04\n",
            "  2.74772557e-04  2.73446086e-04  2.05433733e-04 -3.14665678e-04\n",
            " -2.68340568e-03 -7.65142627e-03 -1.32781074e-02 -1.84306627e-02\n",
            " -2.23496198e-02 -2.53458710e-02 -2.75790651e-02 -2.94568233e-02\n",
            " -3.19954616e-02 -3.66572874e-02 -4.10937557e-02 -4.32850269e-02\n",
            " -4.29536874e-02 -4.04962939e-02 -3.60705280e-02 -2.94739639e-02\n",
            " -2.17378516e-02 -1.43852510e-02 -8.47792097e-03 -4.14351333e-03\n",
            " -1.50223862e-03 -2.28632737e-04  2.15747851e-04  2.70780204e-04\n",
            "  2.75413145e-04  2.70780204e-04  1.64351969e-04 -5.17971561e-04\n",
            " -3.11126685e-03 -8.16257685e-03 -1.40244251e-02 -1.95163627e-02\n",
            " -2.39310186e-02 -2.73946080e-02 -2.99603710e-02 -3.18061839e-02\n",
            " -3.46530227e-02 -3.90940010e-02 -4.33797951e-02 -4.54599469e-02\n",
            " -4.47305174e-02 -4.14335780e-02 -3.55498269e-02 -2.76321239e-02\n",
            " -1.94469398e-02 -1.24174416e-02 -7.01281803e-03 -3.27930803e-03\n",
            " -1.13768568e-03 -1.39319208e-04  2.18556086e-04  2.72857263e-04\n",
            "  2.75510204e-04  2.69583145e-04  1.46616086e-04 -6.00219208e-04\n",
            " -3.02955627e-03 -7.75866333e-03 -1.41222798e-02 -2.06092321e-02\n",
            " -2.64620604e-02 -3.12335110e-02 -3.48232574e-02 -3.77274063e-02\n",
            " -4.11626157e-02 -4.52798316e-02 -4.82354280e-02 -4.84696633e-02\n",
            " -4.56202104e-02 -4.00255780e-02 -3.22882621e-02 -2.34983304e-02\n",
            " -1.56236957e-02 -9.40864391e-03 -5.01559980e-03 -2.26257803e-03\n",
            " -7.78115090e-04 -1.53427371e-05  2.32150792e-04  2.74856675e-04\n",
            "  2.75303145e-04  2.70579616e-04  1.65160792e-04 -4.38532149e-04\n",
            " -2.29949274e-03 -6.28585391e-03 -1.24622827e-02 -1.97461269e-02\n",
            " -2.70654686e-02 -3.35987957e-02 -3.89304827e-02 -4.33837810e-02\n",
            " -4.73198074e-02 -5.03396180e-02 -5.09113333e-02 -4.82026674e-02\n",
            " -4.24403886e-02 -3.44583486e-02 -2.55775698e-02 -1.74270033e-02\n",
            " -1.08111957e-02 -6.05110097e-03 -3.02894803e-03 -1.31978097e-03\n",
            " -3.85648031e-04  1.03204910e-04  2.52584910e-04  2.75257851e-04\n",
            "  2.75309616e-04  2.75128439e-04  2.02877851e-04 -1.46876855e-04\n",
            " -1.25585803e-03 -3.93504391e-03 -8.80555921e-03 -1.55018027e-02\n",
            " -2.33948786e-02 -3.11736451e-02 -3.82030463e-02 -4.36340957e-02\n",
            " -4.72927539e-02 -4.83712457e-02 -4.65509333e-02 -4.13378263e-02\n",
            " -3.37752163e-02 -2.53375563e-02 -1.73246386e-02 -1.08788069e-02\n",
            " -6.28700568e-03 -3.28128803e-03 -1.55267685e-03 -5.88319796e-04\n",
            " -4.87180312e-05  2.02088439e-04  2.68586675e-04  2.75044322e-04\n",
            "  2.75510204e-04  2.75510204e-04  2.50598439e-04  1.12930204e-04\n",
            " -3.97185090e-04 -1.67138627e-03 -4.39531627e-03 -9.01889450e-03\n",
            " -1.53535163e-02 -2.25886304e-02 -2.97229910e-02 -3.54546380e-02\n",
            " -3.84332504e-02 -3.82237133e-02 -3.48955404e-02 -2.90686721e-02\n",
            " -2.20814592e-02 -1.53291416e-02 -9.62341568e-03 -5.64113097e-03\n",
            " -3.03368450e-03 -1.44019215e-03 -5.80574502e-04 -1.05600972e-04\n",
            "  1.55014910e-04  2.53005498e-04  2.71776675e-04  2.75510204e-04\n",
            "  2.75510204e-04  2.75510204e-04  2.69356675e-04  2.28067851e-04\n",
            "  6.44525570e-05 -3.45996267e-04 -1.35636568e-03 -3.27435156e-03\n",
            " -6.25756450e-03 -1.02366657e-02 -1.45175680e-02 -1.79885469e-02\n",
            " -1.97608280e-02 -1.95098339e-02 -1.73649633e-02 -1.39900145e-02\n",
            " -1.03783586e-02 -7.14311627e-03 -4.42763038e-03 -2.52556862e-03\n",
            " -1.26164274e-03 -4.98313914e-04 -9.37921489e-05  1.20358439e-04\n",
            "  2.35981381e-04  2.66897851e-04  2.74759616e-04  2.75510204e-04\n",
            "  2.75510204e-04  2.75510204e-04  2.74901969e-04  2.68606086e-04\n",
            "  2.25900204e-04  9.12925570e-05 -2.70154502e-04 -9.59382149e-04\n",
            " -2.10957450e-03 -3.54033803e-03 -5.10905450e-03 -6.21513685e-03\n",
            " -6.75155509e-03 -6.62552744e-03 -5.86158391e-03 -4.81951509e-03\n",
            " -3.80020333e-03 -2.74929568e-03 -1.75182862e-03 -9.52141561e-04\n",
            " -3.81125090e-04 -4.49327371e-05  1.31636675e-04  2.21228439e-04\n",
            "  2.63371381e-04  2.74125498e-04  2.74837263e-04  2.75510204e-04\n",
            "  2.75510204e-04  2.75510204e-04  2.75510204e-04  2.75264322e-04\n",
            "  2.61747263e-04  2.12195498e-04  6.65296158e-05 -1.90119796e-04\n",
            " -6.23675090e-04 -1.08775215e-03 -1.60751509e-03 -2.04622744e-03\n",
            " -2.22659509e-03 -2.15454509e-03 -1.88716097e-03 -1.45243450e-03\n",
            " -1.09687568e-03 -7.30724502e-04 -3.84942737e-04 -1.16063914e-04\n",
            "  6.57531453e-05  1.82954910e-04  2.46289028e-04  2.69233733e-04\n",
            "  2.75309616e-04  2.75128439e-04  2.75510204e-04  2.75510204e-04\n",
            "  2.75510204e-04  2.75510204e-04  2.75510204e-04  2.75510204e-04\n",
            "  2.74526675e-04  2.69460204e-04  2.59346675e-04  2.40879616e-04\n",
            "  2.25731969e-04  1.99131381e-04  1.45056675e-04  1.08581969e-04\n",
            "  7.13049100e-05  4.61860864e-05  8.39138055e-06  4.56490276e-05\n",
            "  8.80960864e-05  1.42144910e-04  1.97694910e-04  2.41009028e-04\n",
            "  2.57793733e-04  2.68023733e-04  2.69641381e-04  2.74733733e-04\n",
            "  2.75510204e-04  2.75510204e-04  2.75510204e-04  2.75510204e-04]\n",
            "Bias:\t-0.1000000000000716\n",
            "TP + FP = 0\n",
            "TP+TN+FP+FN:\t10000\n",
            "TP:\t0\n",
            "TN:\t8972\n",
            "FP:\t0\n",
            "FN:\t1028\n",
            "Accuracy:\t0.8972\n",
            "Precision:\t0.0\n",
            "Recall:\t0.0\n"
          ],
          "name": "stdout"
        }
      ]
    },
    {
      "cell_type": "markdown",
      "metadata": {
        "id": "X7z_6php7wPJ"
      },
      "source": [
        "TP + FP = 0\\\n",
        "TP+TN+FP+FN:\t10000\\\n",
        "TP:\t0\\\n",
        "TN:\t8972\\\n",
        "FP:\t0\\\n",
        "FN:\t1028\\\n",
        "Accuracy:\t0.8972\\\n",
        "Precision:\t0.0\\\n",
        "Recall:\t0.0"
      ]
    },
    {
      "cell_type": "markdown",
      "metadata": {
        "id": "4xOWJEA38cBL"
      },
      "source": [
        ""
      ]
    },
    {
      "cell_type": "markdown",
      "metadata": {
        "id": "NTEIhr_AIPFT"
      },
      "source": [
        "##Q1.3 Multi-Class Perceptron"
      ]
    },
    {
      "cell_type": "code",
      "metadata": {
        "colab": {
          "base_uri": "https://localhost:8080/"
        },
        "id": "0r1GaJ2cITGv",
        "outputId": "c7af7975-28af-43b9-befe-c758c70b0ab1"
      },
      "source": [
        "p3 = Perceptron(image_size * image_size)\n",
        "p3.print_details_multiclass()\n",
        "\n",
        "p3.train_multi_class(train_imgs,train_labels_one_hot)\n",
        "p3.print_details_multiclass()\n",
        "\n",
        "p3.test_multi_class(test_imgs,test_labels_one_hot)"
      ],
      "execution_count": null,
      "outputs": [
        {
          "output_type": "stream",
          "text": [
            "No. inputs:\t784\n",
            "Train size:\t60000\n",
            "Test size:\t10000\n",
            "Max iterations:\t20\n",
            "Learning rate:\t0.1\n",
            "Multi_Weights:\t[[0.00127551 0.00127551 0.00127551 ... 0.00127551 0.00127551 0.00127551]\n",
            " [0.00127551 0.00127551 0.00127551 ... 0.00127551 0.00127551 0.00127551]\n",
            " [0.00127551 0.00127551 0.00127551 ... 0.00127551 0.00127551 0.00127551]\n",
            " ...\n",
            " [0.00127551 0.00127551 0.00127551 ... 0.00127551 0.00127551 0.00127551]\n",
            " [0.00127551 0.00127551 0.00127551 ... 0.00127551 0.00127551 0.00127551]\n",
            " [0.00127551 0.00127551 0.00127551 ... 0.00127551 0.00127551 0.00127551]]\n",
            "Multi_Bias:\t[[0.]\n",
            " [0.]\n",
            " [0.]\n",
            " [0.]\n",
            " [0.]\n",
            " [0.]\n",
            " [0.]\n",
            " [0.]\n",
            " [0.]\n",
            " [0.]]\n",
            "No. inputs:\t784\n",
            "Train size:\t60000\n",
            "Test size:\t10000\n",
            "Max iterations:\t20\n",
            "Learning rate:\t0.1\n",
            "Multi_Weights:\t[[0.46781551 0.46781551 0.46781551 ... 0.46781551 0.46781551 0.46781551]\n",
            " [0.50343551 0.50343551 0.50343551 ... 0.50343551 0.50343551 0.50343551]\n",
            " [0.49111551 0.49111551 0.49111551 ... 0.49111551 0.49111551 0.49111551]\n",
            " ...\n",
            " [0.50697551 0.50697551 0.50697551 ... 0.50697551 0.50697551 0.50697551]\n",
            " [0.39925551 0.39925551 0.39925551 ... 0.39925551 0.39925551 0.39925551]\n",
            " [0.46429551 0.46429551 0.46429551 ... 0.46429551 0.46429551 0.46429551]]\n",
            "Multi_Bias:\t[[46.654]\n",
            " [50.216]\n",
            " [48.984]\n",
            " [46.238]\n",
            " [48.716]\n",
            " [53.858]\n",
            " [47.764]\n",
            " [50.57 ]\n",
            " [39.798]\n",
            " [46.302]]\n",
            "TP: [ 949. 1097.  844.  894.  869.  472.  929.  842.  741.  889.]\n",
            "FP: [ 64.  71. 114. 262. 211.  41. 218.  75. 245. 173.]\n",
            "TN: [8956. 8794. 8854. 8728. 8807. 9067. 8824. 8897. 8781. 8818.]\n",
            "FN: [ 31.  38. 188. 116. 113. 420.  29. 186. 233. 120.]\n",
            "TP+FP+TN+FN [10000. 10000. 10000. 10000. 10000. 10000. 10000. 10000. 10000. 10000.]\n",
            "accuracy: 0.97052\n",
            "precision: 0.8571871383489367\n",
            "recall: 0.8482587245196772\n",
            "F1 score: 0.8526995602516614\n"
          ],
          "name": "stdout"
        }
      ]
    },
    {
      "cell_type": "markdown",
      "metadata": {
        "id": "xTZNiDYV77Wz"
      },
      "source": [
        "TP: [ 949. 1097.  844.  894.  869.  472.  929.  842.  741.  889.]\\\n",
        "FP: [ 64.  71. 114. 262. 211.  41. 218.  75. 245. 173.]\\\n",
        "TN: [8956. 8794. 8854. 8728. 8807. 9067. 8824. 8897. 8781. 8818.]\\\n",
        "FN: [ 31.  38. 188. 116. 113. 420.  29. 186. 233. 120.]\\\n",
        "TP+FP+TN+FN [10000. 10000. 10000. 10000. 10000. 10000. 10000. 10000. 10000. 10000.]\\\n",
        "accuracy: 0.97052\\\n",
        "precision: 0.8571871383489367\\\n",
        "recall: 0.8482587245196772\\\n",
        "F1 score: 0.8526995602516614"
      ]
    },
    {
      "cell_type": "markdown",
      "metadata": {
        "id": "bWwcWLZ4IfGe"
      },
      "source": [
        "##Q1.4 Multi-Class Perceptron with Sigmoid Activation Function"
      ]
    },
    {
      "cell_type": "code",
      "metadata": {
        "colab": {
          "base_uri": "https://localhost:8080/"
        },
        "id": "zPV96-rTId9u",
        "outputId": "759d467c-3f03-4021-c939-c9db4d4f6163"
      },
      "source": [
        "p4 = Perceptron(image_size * image_size)\n",
        "p4.print_details_multiclass()\n",
        "\n",
        "p4.train_multi_class_sigmoid(train_imgs,train_labels_one_hot)\n",
        "p4.print_details_multiclass()\n",
        "\n",
        "p4.test_multi_class_sigmoid(test_imgs,test_labels_one_hot)"
      ],
      "execution_count": null,
      "outputs": [
        {
          "output_type": "stream",
          "text": [
            "No. inputs:\t784\n",
            "Train size:\t60000\n",
            "Test size:\t10000\n",
            "Max iterations:\t20\n",
            "Learning rate:\t0.1\n",
            "Multi_Weights:\t[[0.00127551 0.00127551 0.00127551 ... 0.00127551 0.00127551 0.00127551]\n",
            " [0.00127551 0.00127551 0.00127551 ... 0.00127551 0.00127551 0.00127551]\n",
            " [0.00127551 0.00127551 0.00127551 ... 0.00127551 0.00127551 0.00127551]\n",
            " ...\n",
            " [0.00127551 0.00127551 0.00127551 ... 0.00127551 0.00127551 0.00127551]\n",
            " [0.00127551 0.00127551 0.00127551 ... 0.00127551 0.00127551 0.00127551]\n",
            " [0.00127551 0.00127551 0.00127551 ... 0.00127551 0.00127551 0.00127551]]\n",
            "Multi_Bias:\t[[0.]\n",
            " [0.]\n",
            " [0.]\n",
            " [0.]\n",
            " [0.]\n",
            " [0.]\n",
            " [0.]\n",
            " [0.]\n",
            " [0.]\n",
            " [0.]]\n",
            "No. inputs:\t784\n",
            "Train size:\t60000\n",
            "Test size:\t10000\n",
            "Max iterations:\t20\n",
            "Learning rate:\t0.1\n",
            "Multi_Weights:\t[[0.13881551 0.13881551 0.13881551 ... 0.13881551 0.13881551 0.13881551]\n",
            " [0.16843551 0.16843551 0.16843551 ... 0.16843551 0.16843551 0.16843551]\n",
            " [0.14611551 0.14611551 0.14611551 ... 0.14611551 0.14611551 0.14611551]\n",
            " ...\n",
            " [0.15997551 0.15997551 0.15997551 ... 0.15997551 0.15997551 0.15997551]\n",
            " [0.06525551 0.06525551 0.06525551 ... 0.06525551 0.06525551 0.06525551]\n",
            " [0.13629551 0.13629551 0.13629551 ... 0.13629551 0.13629551 0.13629551]]\n",
            "Multi_Bias:\t[[13.754]\n",
            " [16.716]\n",
            " [14.484]\n",
            " [13.138]\n",
            " [15.316]\n",
            " [19.858]\n",
            " [13.764]\n",
            " [15.87 ]\n",
            " [ 6.398]\n",
            " [13.502]]\n",
            "TP: [759. 767. 679. 940. 581. 558. 843. 738. 578. 728.]\n",
            "FP: [  28.   36.  129. 1129.   34.  182.  391.   72.  440.  388.]\n",
            "TN: [8992. 8829. 8839. 7861. 8984. 8926. 8651. 8900. 8586. 8603.]\n",
            "FN: [221. 368. 353.  70. 401. 334. 115. 290. 396. 281.]\n",
            "TP+FP+TN+FN [10000. 10000. 10000. 10000. 10000. 10000. 10000. 10000. 10000. 10000.]\n",
            "accuracy: 0.9434199999999999\n",
            "precision: 0.7727396839072755\n",
            "recall: 0.7168902438551217\n",
            "F1 score: 0.7437680058763926\n"
          ],
          "name": "stdout"
        }
      ]
    },
    {
      "cell_type": "markdown",
      "metadata": {
        "id": "bChGJZtS8EqZ"
      },
      "source": [
        "TP: [759. 767. 679. 940. 581. 558. 843. 738. 578. 728.]\\\n",
        "FP: [  28.   36.  129. 1129.   34.  182.  391.   72.  440.  388.]\\\n",
        "TN: [8992. 8829. 8839. 7861. 8984. 8926. 8651. 8900. 8586. 8603.]\\\n",
        "FN: [221. 368. 353.  70. 401. 334. 115. 290. 396. 281.]\\\n",
        "TP+FP+TN+FN [10000. 10000. 10000. 10000. 10000. 10000. 10000. 10000. 10000. 10000.]\\\n",
        "accuracy: 0.9434199999999999\\\n",
        "precision: 0.7727396839072755\\\n",
        "recall: 0.7168902438551217\\\n",
        "F1 score: 0.7437680058763926"
      ]
    },
    {
      "cell_type": "markdown",
      "metadata": {
        "id": "Bt0h6_1tIv7Z"
      },
      "source": [
        "##Q1.5 Visualisation"
      ]
    },
    {
      "cell_type": "markdown",
      "metadata": {
        "id": "E99NPAG0JKEz"
      },
      "source": [
        "###Images"
      ]
    },
    {
      "cell_type": "code",
      "metadata": {
        "colab": {
          "base_uri": "https://localhost:8080/",
          "height": 1000
        },
        "id": "ezep-F9jIu1Z",
        "outputId": "947fd55c-4c19-44f3-acc4-2b00dcb499c4"
      },
      "source": [
        "#Displays images\n",
        "for i in range(10):\n",
        "    img = train_imgs[i].reshape((28,28))\n",
        "    plt.imshow(img, cmap = \"Greys\")\n",
        "    plt.show()"
      ],
      "execution_count": null,
      "outputs": [
        {
          "output_type": "display_data",
          "data": {
            "image/png": "[encoded data removed]",
            "text/plain": [
              "<Figure size 432x288 with 1 Axes>"
            ]
          },
          "metadata": {
            "tags": [],
            "needs_background": "light"
          }
        },
        {
          "output_type": "display_data",
          "data": {
            "image/png": "[encoded data removed]",
            "text/plain": [
              "<Figure size 432x288 with 1 Axes>"
            ]
          },
          "metadata": {
            "tags": [],
            "needs_background": "light"
          }
        },
        {
          "output_type": "display_data",
          "data": {
            "image/png": "[encoded data removed]",
            "text/plain": [
              "<Figure size 432x288 with 1 Axes>"
            ]
          },
          "metadata": {
            "tags": [],
            "needs_background": "light"
          }
        },
        {
          "output_type": "display_data",
          "data": {
            "image/png": "[encoded data removed]",
            "text/plain": [
              "<Figure size 432x288 with 1 Axes>"
            ]
          },
          "metadata": {
            "tags": [],
            "needs_background": "light"
          }
        },
        {
          "output_type": "display_data",
          "data": {
            "image/png": "[encoded data removed]",
            "text/plain": [
              "<Figure size 432x288 with 1 Axes>"
            ]
          },
          "metadata": {
            "tags": [],
            "needs_background": "light"
          }
        },
        {
          "output_type": "display_data",
          "data": {
            "image/png": "[encoded data removed]",
            "text/plain": [
              "<Figure size 432x288 with 1 Axes>"
            ]
          },
          "metadata": {
            "tags": [],
            "needs_background": "light"
          }
        },
        {
          "output_type": "display_data",
          "data": {
            "image/png": "[encoded data removed]",
            "text/plain": [
              "<Figure size 432x288 with 1 Axes>"
            ]
          },
          "metadata": {
            "tags": [],
            "needs_background": "light"
          }
        },
        {
          "output_type": "display_data",
          "data": {
            "image/png": "[encoded data removed]",
            "text/plain": [
              "<Figure size 432x288 with 1 Axes>"
            ]
          },
          "metadata": {
            "tags": [],
            "needs_background": "light"
          }
        },
        {
          "output_type": "display_data",
          "data": {
            "image/png": "[encoded data removed]",
            "text/plain": [
              "<Figure size 432x288 with 1 Axes>"
            ]
          },
          "metadata": {
            "tags": [],
            "needs_background": "light"
          }
        },
        {
          "output_type": "display_data",
          "data": {
            "image/png": "[encoded data removed]",
            "text/plain": [
              "<Figure size 432x288 with 1 Axes>"
            ]
          },
          "metadata": {
            "tags": [],
            "needs_background": "light"
          }
        }
      ]
    },
    {
      "cell_type": "markdown",
      "metadata": {
        "id": "x1aQF2tfJL3A"
      },
      "source": [
        "###Weights After training"
      ]
    },
    {
      "cell_type": "markdown",
      "metadata": {
        "id": "bcw82PBnJes0"
      },
      "source": [
        "####Q1.1 Binary Perceptron"
      ]
    },
    {
      "cell_type": "code",
      "metadata": {
        "colab": {
          "base_uri": "https://localhost:8080/",
          "height": 265
        },
        "id": "W7QN7bDZJcnG",
        "outputId": "9a298190-7bb0-4646-f096-cab2a2bbc341"
      },
      "source": [
        "w1 = p1.weights.reshape((28,28))\n",
        "plt.imshow(w1, cmap = \"Greys\")\n",
        "plt.show()"
      ],
      "execution_count": null,
      "outputs": [
        {
          "output_type": "display_data",
          "data": {
            "image/png": "[encoded data removed]",
            "text/plain": [
              "<Figure size 432x288 with 1 Axes>"
            ]
          },
          "metadata": {
            "tags": [],
            "needs_background": "light"
          }
        }
      ]
    },
    {
      "cell_type": "markdown",
      "metadata": {
        "id": "4Pa0VNIoJkFF"
      },
      "source": [
        "####Q1.2 Binary Perceptron with Batch Learning"
      ]
    },
    {
      "cell_type": "code",
      "metadata": {
        "colab": {
          "base_uri": "https://localhost:8080/",
          "height": 265
        },
        "id": "_XH9YT3uKWQ7",
        "outputId": "065c59b6-ae8a-461e-8e2d-51c5db7825e1"
      },
      "source": [
        "w2 = p2.weights.reshape((28,28))\n",
        "plt.imshow(w2, cmap = \"Greys\")\n",
        "plt.show()"
      ],
      "execution_count": null,
      "outputs": [
        {
          "output_type": "display_data",
          "data": {
            "image/png": "[encoded data removed]",
            "text/plain": [
              "<Figure size 432x288 with 1 Axes>"
            ]
          },
          "metadata": {
            "tags": [],
            "needs_background": "light"
          }
        }
      ]
    },
    {
      "cell_type": "markdown",
      "metadata": {
        "id": "BX_7jf3GJp4D"
      },
      "source": [
        "####Q1.3 Multi-Class Perceptron "
      ]
    },
    {
      "cell_type": "code",
      "metadata": {
        "colab": {
          "base_uri": "https://localhost:8080/",
          "height": 1000
        },
        "id": "S8uc3jtBKSfC",
        "outputId": "34916325-fae6-4c3c-f09a-2ce4922301fc"
      },
      "source": [
        "#multi-class\n",
        "#trained weights for each digit\n",
        "for j in range(10):\n",
        "    w3 = p3.multi_weights[j].reshape((28,28))\n",
        "    plt.imshow(w3, cmap = \"Greys\")\n",
        "    plt.show()"
      ],
      "execution_count": null,
      "outputs": [
        {
          "output_type": "display_data",
          "data": {
            "image/png": "[encoded data removed]",
            "text/plain": [
              "<Figure size 432x288 with 1 Axes>"
            ]
          },
          "metadata": {
            "tags": [],
            "needs_background": "light"
          }
        },
        {
          "output_type": "display_data",
          "data": {
            "image/png": "[encoded data removed]",
            "text/plain": [
              "<Figure size 432x288 with 1 Axes>"
            ]
          },
          "metadata": {
            "tags": [],
            "needs_background": "light"
          }
        },
        {
          "output_type": "display_data",
          "data": {
            "image/png": "[encoded data removed]",
            "text/plain": [
              "<Figure size 432x288 with 1 Axes>"
            ]
          },
          "metadata": {
            "tags": [],
            "needs_background": "light"
          }
        },
        {
          "output_type": "display_data",
          "data": {
            "image/png": "[encoded data removed]",
            "text/plain": [
              "<Figure size 432x288 with 1 Axes>"
            ]
          },
          "metadata": {
            "tags": [],
            "needs_background": "light"
          }
        },
        {
          "output_type": "display_data",
          "data": {
            "image/png": "[encoded data removed]",
            "text/plain": [
              "<Figure size 432x288 with 1 Axes>"
            ]
          },
          "metadata": {
            "tags": [],
            "needs_background": "light"
          }
        },
        {
          "output_type": "display_data",
          "data": {
            "image/png": "[encoded data removed]",
            "text/plain": [
              "<Figure size 432x288 with 1 Axes>"
            ]
          },
          "metadata": {
            "tags": [],
            "needs_background": "light"
          }
        },
        {
          "output_type": "display_data",
          "data": {
            "image/png": "[encoded data removed]",
            "text/plain": [
              "<Figure size 432x288 with 1 Axes>"
            ]
          },
          "metadata": {
            "tags": [],
            "needs_background": "light"
          }
        },
        {
          "output_type": "display_data",
          "data": {
            "image/png": "[encoded data removed]",
            "text/plain": [
              "<Figure size 432x288 with 1 Axes>"
            ]
          },
          "metadata": {
            "tags": [],
            "needs_background": "light"
          }
        },
        {
          "output_type": "display_data",
          "data": {
            "image/png": "[encoded data removed]",
            "text/plain": [
              "<Figure size 432x288 with 1 Axes>"
            ]
          },
          "metadata": {
            "tags": [],
            "needs_background": "light"
          }
        },
        {
          "output_type": "display_data",
          "data": {
            "image/png": "[encoded data removed]",
            "text/plain": [
              "<Figure size 432x288 with 1 Axes>"
            ]
          },
          "metadata": {
            "tags": [],
            "needs_background": "light"
          }
        }
      ]
    },
    {
      "cell_type": "markdown",
      "metadata": {
        "id": "6JceJCGqJv2V"
      },
      "source": [
        "####Q1.4 Multi-Class Perceptron with Sigmoid Activation Function"
      ]
    },
    {
      "cell_type": "code",
      "metadata": {
        "colab": {
          "base_uri": "https://localhost:8080/",
          "height": 1000
        },
        "id": "8sJjhRzIKO9P",
        "outputId": "ff39843f-9648-4921-8072-dd1605ef8037"
      },
      "source": [
        "#multi-class with sigmoid\n",
        "#trained weights for each digit\n",
        "for j in range(10):\n",
        "    w4 = p4.multi_weights[j].reshape((28,28))\n",
        "    plt.imshow(w4, cmap = \"Greys\")\n",
        "    plt.show()"
      ],
      "execution_count": null,
      "outputs": [
        {
          "output_type": "display_data",
          "data": {
            "image/png": "[encoded data removed]",
            "text/plain": [
              "<Figure size 432x288 with 1 Axes>"
            ]
          },
          "metadata": {
            "tags": [],
            "needs_background": "light"
          }
        },
        {
          "output_type": "display_data",
          "data": {
            "image/png": "[encoded data removed]",
            "text/plain": [
              "<Figure size 432x288 with 1 Axes>"
            ]
          },
          "metadata": {
            "tags": [],
            "needs_background": "light"
          }
        },
        {
          "output_type": "display_data",
          "data": {
            "image/png": "[encoded data removed]",
            "text/plain": [
              "<Figure size 432x288 with 1 Axes>"
            ]
          },
          "metadata": {
            "tags": [],
            "needs_background": "light"
          }
        },
        {
          "output_type": "display_data",
          "data": {
            "image/png": "[encoded data removed]",
            "text/plain": [
              "<Figure size 432x288 with 1 Axes>"
            ]
          },
          "metadata": {
            "tags": [],
            "needs_background": "light"
          }
        },
        {
          "output_type": "display_data",
          "data": {
            "image/png": "[encoded data removed]",
            "text/plain": [
              "<Figure size 432x288 with 1 Axes>"
            ]
          },
          "metadata": {
            "tags": [],
            "needs_background": "light"
          }
        },
        {
          "output_type": "display_data",
          "data": {
            "image/png": "[encoded data removed]",
            "text/plain": [
              "<Figure size 432x288 with 1 Axes>"
            ]
          },
          "metadata": {
            "tags": [],
            "needs_background": "light"
          }
        },
        {
          "output_type": "display_data",
          "data": {
            "image/png": "[encoded data removed]",
            "text/plain": [
              "<Figure size 432x288 with 1 Axes>"
            ]
          },
          "metadata": {
            "tags": [],
            "needs_background": "light"
          }
        },
        {
          "output_type": "display_data",
          "data": {
            "image/png": "[encoded data removed]",
            "text/plain": [
              "<Figure size 432x288 with 1 Axes>"
            ]
          },
          "metadata": {
            "tags": [],
            "needs_background": "light"
          }
        },
        {
          "output_type": "display_data",
          "data": {
            "image/png": "[encoded data removed]",
            "text/plain": [
              "<Figure size 432x288 with 1 Axes>"
            ]
          },
          "metadata": {
            "tags": [],
            "needs_background": "light"
          }
        },
        {
          "output_type": "display_data",
          "data": {
            "image/png": "[encoded data removed]",
            "text/plain": [
              "<Figure size 432x288 with 1 Axes>"
            ]
          },
          "metadata": {
            "tags": [],
            "needs_background": "light"
          }
        }
      ]
    }
  ]
}